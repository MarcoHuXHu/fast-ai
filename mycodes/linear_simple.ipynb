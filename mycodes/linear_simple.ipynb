{
 "cells": [
  {
   "cell_type": "markdown",
   "metadata": {},
   "source": [
    "## 利用Keras的Sequential对线性模型进行拟合\n",
    "随机产生数据 y = a<sub>1</sub>x<sub>1</sub> + a<sub>2</sub>x<sub>2</sub> + b"
   ]
  },
  {
   "cell_type": "code",
   "execution_count": 1,
   "metadata": {},
   "outputs": [
    {
     "name": "stderr",
     "output_type": "stream",
     "text": [
      "Using TensorFlow backend.\n"
     ]
    }
   ],
   "source": [
    "%matplotlib inline\n",
    "import numpy as np\n",
    "from numpy.random import random\n",
    "from keras.models import Sequential\n",
    "from keras.layers.core import Dense\n",
    "from keras.optimizers import SGD\n",
    "import keras\n",
    "from keras.models import Sequential\n",
    "from keras.layers import Input\n",
    "from keras.optimizers import SGD\n"
   ]
  },
  {
   "cell_type": "code",
   "execution_count": 2,
   "metadata": {
    "collapsed": true
   },
   "outputs": [],
   "source": [
    "a1 = 3\n",
    "a2 = 4\n",
    "b = 5\n",
    "\n",
    "x = random((30, 2))\n",
    "#np.dot代表点乘运算\n",
    "y = np.dot(x, [a1, a2]) + b"
   ]
  },
  {
   "cell_type": "code",
   "execution_count": 3,
   "metadata": {
    "collapsed": true
   },
   "outputs": [],
   "source": [
    "# Dense的参数:\n",
    "# Dense(self, output_dim, init='glorot_uniform', activation=None, weights=None, W_regularizer=None, b_regularizer=None, activity_regularizer=None, W_constraint=None, b_constraint=None, bias=True, input_dim=None, **kwargs)\n",
    "# 比较重要的output_dim, input_shape\n",
    "# 例子中输出的是一个数y, 所以output_dim=1\n",
    "# 输入的是二维的点x, 所以input_dim=2\n",
    "# 如果是使用2阶或高阶张量作为输入, 则应使用input_shape=(nb_samples, ..., output_dim), \n",
    "# 这里每一个输入的数据是一个向量(1阶), 所以input_shape=(2,))\n",
    "\n",
    "linear_model = Sequential([Dense(1, input_dim=2)])\n",
    "linear_model.compile(optimizer=SGD(lr=0.01), loss='mse')"
   ]
  },
  {
   "cell_type": "code",
   "execution_count": 13,
   "metadata": {},
   "outputs": [
    {
     "name": "stdout",
     "output_type": "stream",
     "text": [
      "Epoch 1/5\n",
      "30/30 [==============================] - 0s - loss: 0.0036         \n",
      "Epoch 2/5\n",
      "30/30 [==============================] - 0s - loss: 0.0033        \n",
      "Epoch 3/5\n",
      "30/30 [==============================] - 0s - loss: 0.0031     \n",
      "Epoch 4/5\n",
      "30/30 [==============================] - 0s - loss: 0.0029        \n",
      "Epoch 5/5\n",
      "30/30 [==============================] - 0s - loss: 0.0027        \n"
     ]
    },
    {
     "data": {
      "text/plain": [
       "<keras.callbacks.History at 0x11ee4f5d0>"
      ]
     },
     "execution_count": 13,
     "metadata": {},
     "output_type": "execute_result"
    }
   ],
   "source": [
    "# 反复运行可以不断降低误差\n",
    "linear_model.fit(x, y, nb_epoch=5, batch_size=1)"
   ]
  },
  {
   "cell_type": "code",
   "execution_count": 14,
   "metadata": {},
   "outputs": [
    {
     "data": {
      "text/plain": [
       "[array([[ 2.92769718],\n",
       "        [ 3.83842111]], dtype=float32), array([ 5.11735582], dtype=float32)]"
      ]
     },
     "execution_count": 14,
     "metadata": {},
     "output_type": "execute_result"
    }
   ],
   "source": [
    "linear_model.get_weights()"
   ]
  },
  {
   "cell_type": "code",
   "execution_count": null,
   "metadata": {
    "collapsed": true
   },
   "outputs": [],
   "source": []
  }
 ],
 "metadata": {
  "kernelspec": {
   "display_name": "Python 2",
   "language": "python",
   "name": "python2"
  },
  "language_info": {
   "codemirror_mode": {
    "name": "ipython",
    "version": 2
   },
   "file_extension": ".py",
   "mimetype": "text/x-python",
   "name": "python",
   "nbconvert_exporter": "python",
   "pygments_lexer": "ipython2",
   "version": "2.7.14"
  }
 },
 "nbformat": 4,
 "nbformat_minor": 2
}
