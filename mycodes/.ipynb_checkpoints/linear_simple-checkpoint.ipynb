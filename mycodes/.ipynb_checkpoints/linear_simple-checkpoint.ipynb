{
 "cells": [
  {
   "cell_type": "markdown",
   "metadata": {},
   "source": [
    "## 利用Keras的Sequential对线性模型进行拟合\n",
    "随机产生数据 y = a<sub>1</sub>x<sub>1</sub> + a<sub>2</sub>x<sub>2</sub> + a<sub>3</sub>x<sub>3</sub> + b"
   ]
  },
  {
   "cell_type": "code",
   "execution_count": 1,
   "metadata": {},
   "outputs": [
    {
     "name": "stderr",
     "output_type": "stream",
     "text": [
      "Using TensorFlow backend.\n"
     ]
    }
   ],
   "source": [
    "%matplotlib inline\n",
    "import numpy as np\n",
    "from numpy.random import random\n",
    "from keras.models import Sequential\n",
    "from keras.layers.core import Dense\n",
    "from keras.optimizers import SGD\n",
    "import keras\n",
    "from keras.models import Sequential\n",
    "from keras.layers import Input\n",
    "from keras.optimizers import SGD\n"
   ]
  },
  {
   "cell_type": "code",
   "execution_count": 3,
   "metadata": {
    "collapsed": true
   },
   "outputs": [],
   "source": [
    "a1 = 3\n",
    "a2 = 4\n",
    "a3 = 5\n",
    "b = 6\n",
    "\n",
    "x = random((30, 3))\n",
    "#np.dot代表点乘运算\n",
    "y = np.dot(x, [a1, a2, a3]) + b"
   ]
  },
  {
   "cell_type": "code",
   "execution_count": 18,
   "metadata": {
    "collapsed": true
   },
   "outputs": [],
   "source": [
    "# Dense的参数:\n",
    "# Dense(self, output_dim, init='glorot_uniform', activation=None, weights=None, \n",
    "#                W_regularizer=None, b_regularizer=None, activity_regularizer=None, W_constraint=None, b_constraint=None, bias=True, input_dim=None, **kwargs)\n",
    "# 比较重要的output_dim, input_shape\n",
    "# 例子中输出的是一个数y, 所以output_dim=1\n",
    "# 输入的是二维的点x, 所以input_dim=2\n",
    "# 如果是使用2阶或高阶张量作为输入, 则应使用input_shape=(nb_samples, ..., output_dim), \n",
    "# 这里每一个输入的数据是一个向量(1阶), 所以input_shape=(2,))\n",
    "\n",
    "linear_model = Sequential([Dense(1, input_dim=3)])\n",
    "linear_model.compile(optimizer=SGD(lr=0.01), loss='mse')"
   ]
  },
  {
   "cell_type": "code",
   "execution_count": 28,
   "metadata": {},
   "outputs": [
    {
     "name": "stdout",
     "output_type": "stream",
     "text": [
      "Epoch 1/5\n",
      "30/30 [==============================] - 0s - loss: 0.0013     \n",
      "Epoch 2/5\n",
      "30/30 [==============================] - 0s - loss: 0.0012     \n",
      "Epoch 3/5\n",
      "30/30 [==============================] - 0s - loss: 0.0011         \n",
      "Epoch 4/5\n",
      "30/30 [==============================] - 0s - loss: 9.7953e-04 \n",
      "Epoch 5/5\n",
      "30/30 [==============================] - 0s - loss: 8.9985e-04     \n"
     ]
    },
    {
     "data": {
      "text/plain": [
       "<keras.callbacks.History at 0x121f2c5d0>"
      ]
     },
     "execution_count": 28,
     "metadata": {},
     "output_type": "execute_result"
    }
   ],
   "source": [
    "# 反复运行可以不断降低误差\n",
    "linear_model.fit(x, y, nb_epoch=5, batch_size=1)"
   ]
  },
  {
   "cell_type": "code",
   "execution_count": 29,
   "metadata": {},
   "outputs": [
    {
     "data": {
      "text/plain": [
       "[array([[ 3.03905892],\n",
       "        [ 4.06547356],\n",
       "        [ 4.91633701]], dtype=float32), array([ 5.98578691], dtype=float32)]"
      ]
     },
     "execution_count": 29,
     "metadata": {},
     "output_type": "execute_result"
    }
   ],
   "source": [
    "linear_model.get_weights()"
   ]
  },
  {
   "cell_type": "markdown",
   "metadata": {
    "collapsed": true
   },
   "source": [
    "## 尝试来做二次拟合"
   ]
  },
  {
   "cell_type": "code",
   "execution_count": 2,
   "metadata": {
    "collapsed": true
   },
   "outputs": [],
   "source": [
    "a1 = 1\n",
    "a2 = 2\n",
    "a3 = 1\n",
    "x = random((30,  1))\n",
    "y = a1 * x * x + a2 * x + a3"
   ]
  },
  {
   "cell_type": "code",
   "execution_count": 17,
   "metadata": {
    "collapsed": true
   },
   "outputs": [],
   "source": [
    "model = Sequential()\n",
    "#model.add(Dense(1, input_dim=1))\n",
    "#model.add(Dense(1, input_dim=1))\n",
    "\n",
    "model.add(Dense(1, input_dim=1, init='uniform', activation='tanh'))\n",
    "model.add(Dense(1, init='uniform', activation='linear'))\n",
    "model.compile(optimizer=SGD(lr=0.1), loss='mse')"
   ]
  },
  {
   "cell_type": "code",
   "execution_count": 28,
   "metadata": {},
   "outputs": [
    {
     "name": "stdout",
     "output_type": "stream",
     "text": [
      "Epoch 1/10\n",
      "30/30 [==============================] - 0s - loss: 0.0015\n",
      "Epoch 2/10\n",
      "30/30 [==============================] - 0s - loss: 0.0015\n",
      "Epoch 3/10\n",
      "30/30 [==============================] - 0s - loss: 0.0015\n",
      "Epoch 4/10\n",
      "30/30 [==============================] - 0s - loss: 0.0015\n",
      "Epoch 5/10\n",
      "30/30 [==============================] - 0s - loss: 0.0015\n",
      "Epoch 6/10\n",
      "30/30 [==============================] - 0s - loss: 0.0015\n",
      "Epoch 7/10\n",
      "30/30 [==============================] - 0s - loss: 0.0015\n",
      "Epoch 8/10\n",
      "30/30 [==============================] - 0s - loss: 0.0015\n",
      "Epoch 9/10\n",
      "30/30 [==============================] - 0s - loss: 0.0015\n",
      "Epoch 10/10\n",
      "30/30 [==============================] - 0s - loss: 0.0015\n"
     ]
    },
    {
     "data": {
      "text/plain": [
       "<keras.callbacks.History at 0x113f71a10>"
      ]
     },
     "execution_count": 28,
     "metadata": {},
     "output_type": "execute_result"
    }
   ],
   "source": [
    "model.fit(x, y, nb_epoch=10, batch_size=30)"
   ]
  },
  {
   "cell_type": "code",
   "execution_count": 29,
   "metadata": {},
   "outputs": [
    {
     "name": "stdout",
     "output_type": "stream",
     "text": [
      "[array([[-1.6339016]], dtype=float32), array([ 1.04528284], dtype=float32), array([[-2.15097952]], dtype=float32), array([ 2.7329576], dtype=float32)]\n"
     ]
    }
   ],
   "source": [
    "print(model.get_weights())"
   ]
  },
  {
   "cell_type": "code",
   "execution_count": 32,
   "metadata": {},
   "outputs": [
    {
     "name": "stdout",
     "output_type": "stream",
     "text": [
      "[[ 0.4402281 ]\n",
      " [ 0.37903037]\n",
      " [ 0.98844159]\n",
      " [ 0.36996179]\n",
      " [ 0.58715437]]\n",
      "[[ 2.07425699]\n",
      " [ 1.90172477]\n",
      " [ 3.95389995]\n",
      " [ 1.87679532]\n",
      " [ 2.51905899]]\n"
     ]
    }
   ],
   "source": [
    "x2 = random((5, 1))\n",
    "y2 = a1 * x2 * x2 + a2 * x2 + a3\n",
    "print(x2)\n",
    "print(y2)"
   ]
  },
  {
   "cell_type": "code",
   "execution_count": 33,
   "metadata": {
    "collapsed": true
   },
   "outputs": [],
   "source": [
    "z2 = model.predict(x2, batch_size=1)"
   ]
  },
  {
   "cell_type": "code",
   "execution_count": 34,
   "metadata": {},
   "outputs": [
    {
     "data": {
      "text/plain": [
       "array([[ 2.05557966],\n",
       "       [ 1.86834979],\n",
       "       [ 3.84106374],\n",
       "       [ 1.84178805],\n",
       "       [ 2.54857683]], dtype=float32)"
      ]
     },
     "execution_count": 34,
     "metadata": {},
     "output_type": "execute_result"
    }
   ],
   "source": [
    "z2"
   ]
  },
  {
   "cell_type": "code",
   "execution_count": null,
   "metadata": {
    "collapsed": true
   },
   "outputs": [],
   "source": []
  }
 ],
 "metadata": {
  "kernelspec": {
   "display_name": "Python 2",
   "language": "python",
   "name": "python2"
  },
  "language_info": {
   "codemirror_mode": {
    "name": "ipython",
    "version": 2
   },
   "file_extension": ".py",
   "mimetype": "text/x-python",
   "name": "python",
   "nbconvert_exporter": "python",
   "pygments_lexer": "ipython2",
   "version": "2.7.14"
  }
 },
 "nbformat": 4,
 "nbformat_minor": 2
}
