{
 "cells": [
  {
   "cell_type": "markdown",
   "metadata": {
    "colab_type": "text",
    "id": "oORO45bmaw1I"
   },
   "source": [
    "## 各种import"
   ]
  },
  {
   "cell_type": "code",
   "execution_count": 5,
   "metadata": {
    "colab": {
     "autoexec": {
      "startup": false,
      "wait_interval": 0
     },
     "base_uri": "https://localhost:8080/",
     "height": 323,
     "output_extras": [
      {
       "item_id": 16
      }
     ]
    },
    "colab_type": "code",
    "executionInfo": {
     "elapsed": 7114,
     "status": "ok",
     "timestamp": 1517559102113,
     "user": {
      "displayName": "胡小糊",
      "photoUrl": "//lh6.googleusercontent.com/-ZZheEHVvyCI/AAAAAAAAAAI/AAAAAAAAAAQ/LvrhFpBLdZY/s50-c-k-no/photo.jpg",
      "userId": "111922928557190330260"
     },
     "user_tz": -480
    },
    "id": "jLypT4YDbA3P",
    "outputId": "ca7eb5d2-c1a8-4a45-f290-72a276b55603"
   },
   "outputs": [
    {
     "name": "stdout",
     "output_type": "stream",
     "text": [
      "Collecting keras<2\n",
      "  Downloading Keras-1.2.2.tar.gz (175kB)\n",
      "\u001b[K    100% |████████████████████████████████| 184kB 2.7MB/s \n",
      "\u001b[?25hRequirement already satisfied: pyyaml in /usr/local/lib/python2.7/dist-packages (from keras<2)\n",
      "Requirement already satisfied: six in /usr/local/lib/python2.7/dist-packages (from keras<2)\n",
      "Collecting theano (from keras<2)\n",
      "  Downloading Theano-1.0.1.tar.gz (2.8MB)\n",
      "\u001b[K    100% |████████████████████████████████| 2.8MB 395kB/s \n",
      "\u001b[?25hRequirement already satisfied: numpy>=1.9.1 in /usr/local/lib/python2.7/dist-packages (from theano->keras<2)\n",
      "Requirement already satisfied: scipy>=0.14 in /usr/local/lib/python2.7/dist-packages (from theano->keras<2)\n",
      "Building wheels for collected packages: keras, theano\n",
      "  Running setup.py bdist_wheel for keras ... \u001b[?25l-\b \bdone\n",
      "\u001b[?25h  Stored in directory: /content/.cache/pip/wheels/f6/c5/63/97d96b41bf822858027c70b04448c19deaccf1cf518148fa82\n",
      "  Running setup.py bdist_wheel for theano ... \u001b[?25l-\b \b\\\b \b|\b \b/\b \b-\b \b\\\b \b|\b \bdone\n",
      "\u001b[?25h  Stored in directory: /content/.cache/pip/wheels/46/a2/7d/b4cac381d5151daa9f9e0b3e4e4b65edaea6355ae296c97cf2\n",
      "Successfully built keras theano\n",
      "Installing collected packages: theano, keras\n",
      "Successfully installed keras-1.2.2 theano-1.0.1\n"
     ]
    }
   ],
   "source": [
    "!pip install 'keras<2'"
   ]
  },
  {
   "cell_type": "code",
   "execution_count": 1,
   "metadata": {
    "colab": {
     "autoexec": {
      "startup": false,
      "wait_interval": 0
     },
     "base_uri": "https://localhost:8080/",
     "height": 34,
     "output_extras": [
      {
       "item_id": 1
      }
     ]
    },
    "colab_type": "code",
    "executionInfo": {
     "elapsed": 7558,
     "status": "ok",
     "timestamp": 1517559111999,
     "user": {
      "displayName": "胡小糊",
      "photoUrl": "//lh6.googleusercontent.com/-ZZheEHVvyCI/AAAAAAAAAAI/AAAAAAAAAAQ/LvrhFpBLdZY/s50-c-k-no/photo.jpg",
      "userId": "111922928557190330260"
     },
     "user_tz": -480
    },
    "id": "lvN6_d0Fiqhk",
    "outputId": "dd683508-189c-4c57-f65d-5fa56d09f4fb"
   },
   "outputs": [
    {
     "name": "stderr",
     "output_type": "stream",
     "text": [
      "Using Theano backend.\n"
     ]
    }
   ],
   "source": [
    "from __future__ import division,print_function\n",
    "import math, os, json, sys, re\n",
    "import cPickle as pickle\n",
    "from glob import glob\n",
    "import numpy as np\n",
    "from matplotlib import pyplot as plt\n",
    "from operator import itemgetter, attrgetter, methodcaller\n",
    "from collections import OrderedDict\n",
    "import itertools\n",
    "from itertools import chain\n",
    "\n",
    "import pandas as pd\n",
    "import PIL\n",
    "from PIL import Image\n",
    "from numpy.random import random, permutation, randn, normal, uniform, choice\n",
    "from numpy import newaxis\n",
    "import scipy\n",
    "from scipy import misc, ndimage\n",
    "from scipy.ndimage.interpolation import zoom\n",
    "from scipy.ndimage import imread\n",
    "from sklearn.metrics import confusion_matrix\n",
    "from sklearn.preprocessing import OneHotEncoder\n",
    "from sklearn.manifold import TSNE\n",
    "\n",
    "from IPython.lib.display import FileLink\n",
    "\n",
    "import theano\n",
    "from theano import shared, tensor as T\n",
    "from theano.tensor.nnet import conv2d, nnet\n",
    "from theano.tensor.signal import pool\n",
    "\n",
    "import keras\n",
    "from keras import backend as K\n",
    "from keras.utils.data_utils import get_file\n",
    "from keras.utils import np_utils\n",
    "from keras.utils.np_utils import to_categorical\n",
    "from keras.models import Sequential, Model\n",
    "from keras.layers import Input, Embedding, Reshape, merge, LSTM, Bidirectional\n",
    "from keras.layers import TimeDistributed, Activation, SimpleRNN, GRU\n",
    "from keras.layers.core import Flatten, Dense, Dropout, Lambda\n",
    "from keras.regularizers import l2, activity_l2, l1, activity_l1\n",
    "from keras.layers.normalization import BatchNormalization\n",
    "from keras.optimizers import SGD, RMSprop, Adam\n",
    "from keras.utils.layer_utils import layer_from_config\n",
    "from keras.metrics import categorical_crossentropy, categorical_accuracy\n",
    "from keras.layers.convolutional import *\n",
    "from keras.preprocessing import image, sequence\n",
    "from keras.preprocessing.text import Tokenizer"
   ]
  },
  {
   "cell_type": "code",
   "execution_count": 2,
   "metadata": {
    "colab": {
     "autoexec": {
      "startup": false,
      "wait_interval": 0
     },
     "base_uri": "https://localhost:8080/",
     "height": 369,
     "output_extras": [
      {
       "item_id": 1
      }
     ]
    },
    "colab_type": "code",
    "executionInfo": {
     "elapsed": 719,
     "status": "error",
     "timestamp": 1517559116994,
     "user": {
      "displayName": "胡小糊",
      "photoUrl": "//lh6.googleusercontent.com/-ZZheEHVvyCI/AAAAAAAAAAI/AAAAAAAAAAQ/LvrhFpBLdZY/s50-c-k-no/photo.jpg",
      "userId": "111922928557190330260"
     },
     "user_tz": -480
    },
    "id": "hjF2UJ8Oaw1K",
    "outputId": "d0e39d23-40d6-4b37-ceb9-b750401e990d"
   },
   "outputs": [],
   "source": [
    "%matplotlib inline\n",
    "\n",
    "import os, sys \n",
    "sys.path.append(os.path.abspath(\"../examples\"))\n",
    "\n",
    "import utils; reload(utils)\n",
    "from utils import *\n",
    "\n",
    "from __future__ import division, print_function"
   ]
  },
  {
   "cell_type": "markdown",
   "metadata": {
    "colab_type": "text",
    "id": "I0auN4tWaw1Q"
   },
   "source": [
    "## 从Keras导入数据"
   ]
  },
  {
   "cell_type": "code",
   "execution_count": 3,
   "metadata": {
    "colab": {
     "autoexec": {
      "startup": false,
      "wait_interval": 0
     },
     "base_uri": "https://localhost:8080/",
     "height": 51,
     "output_extras": [
      {
       "item_id": 1
      },
      {
       "item_id": 2
      }
     ]
    },
    "colab_type": "code",
    "executionInfo": {
     "elapsed": 3194,
     "status": "ok",
     "timestamp": 1517559125521,
     "user": {
      "displayName": "胡小糊",
      "photoUrl": "//lh6.googleusercontent.com/-ZZheEHVvyCI/AAAAAAAAAAI/AAAAAAAAAAQ/LvrhFpBLdZY/s50-c-k-no/photo.jpg",
      "userId": "111922928557190330260"
     },
     "user_tz": -480
    },
    "id": "GbzITWnzaw1Q",
    "outputId": "9779611b-bd9c-4d0e-9cdb-a484d20b4d7a"
   },
   "outputs": [
    {
     "data": {
      "text/plain": [
       "((60000L, 28L, 28L), (60000L,), (10000L, 28L, 28L), (10000L,))"
      ]
     },
     "execution_count": 3,
     "metadata": {},
     "output_type": "execute_result"
    }
   ],
   "source": [
    "from keras.datasets import mnist\n",
    "(trn_data, trn_res), (test_data, test_res) = mnist.load_data()\n",
    "(trn_data.shape, trn_res.shape, test_data.shape, test_res.shape)"
   ]
  },
  {
   "cell_type": "markdown",
   "metadata": {
    "colab_type": "text",
    "id": "sf7oulU9aw1T"
   },
   "source": [
    "## 处理数据"
   ]
  },
  {
   "cell_type": "markdown",
   "metadata": {
    "colab_type": "text",
    "id": "rxpP5vGkaw1U"
   },
   "source": [
    "### One-Hot-Encoding"
   ]
  },
  {
   "cell_type": "code",
   "execution_count": 4,
   "metadata": {
    "colab": {
     "autoexec": {
      "startup": false,
      "wait_interval": 0
     },
     "base_uri": "https://localhost:8080/",
     "height": 119,
     "output_extras": [
      {
       "item_id": 1
      }
     ]
    },
    "colab_type": "code",
    "executionInfo": {
     "elapsed": 725,
     "status": "ok",
     "timestamp": 1517559129360,
     "user": {
      "displayName": "胡小糊",
      "photoUrl": "//lh6.googleusercontent.com/-ZZheEHVvyCI/AAAAAAAAAAI/AAAAAAAAAAQ/LvrhFpBLdZY/s50-c-k-no/photo.jpg",
      "userId": "111922928557190330260"
     },
     "user_tz": -480
    },
    "id": "iFYrNo8naw1V",
    "outputId": "0a6d9b86-8ecc-4bb6-b6a4-76e15c1af807"
   },
   "outputs": [
    {
     "name": "stdout",
     "output_type": "stream",
     "text": [
      "[5 0 4 1 9]\n",
      "[[ 0.  0.  0.  0.  0.  1.  0.  0.  0.  0.]\n",
      " [ 1.  0.  0.  0.  0.  0.  0.  0.  0.  0.]\n",
      " [ 0.  0.  0.  0.  1.  0.  0.  0.  0.  0.]\n",
      " [ 0.  1.  0.  0.  0.  0.  0.  0.  0.  0.]\n",
      " [ 0.  0.  0.  0.  0.  0.  0.  0.  0.  1.]]\n"
     ]
    }
   ],
   "source": [
    "def onehot(x): return np.array(OneHotEncoder().fit_transform(x.reshape(-1,1)).todense())\n",
    "trn_label = onehot(trn_res)\n",
    "test_label = onehot(test_res)\n",
    "\n",
    "print(trn_res[:5])\n",
    "print(trn_label[:5])"
   ]
  },
  {
   "cell_type": "markdown",
   "metadata": {
    "colab_type": "text",
    "id": "iDZ5KdJdaw1X"
   },
   "source": [
    "### 对图像加入新的维度\n",
    "即灰度, 维度大小为1; 彩色图片则维度大小为3, 代表RGB, 3个通道\n",
    "对于tensorflow, 前两个维度代表图片大小, 第三个维度代表色彩通道, 所以np.expand_dims(trn_data, 3)\n",
    "对于thenao, 第一个维度代表色彩通道, 后两个维度代表图片大小, 所以np.expand_dims(trn_data, 1)"
   ]
  },
  {
   "cell_type": "code",
   "execution_count": 5,
   "metadata": {
    "colab": {
     "autoexec": {
      "startup": false,
      "wait_interval": 0
     },
     "base_uri": "https://localhost:8080/",
     "height": 34,
     "output_extras": [
      {
       "item_id": 1
      }
     ]
    },
    "colab_type": "code",
    "executionInfo": {
     "elapsed": 751,
     "status": "ok",
     "timestamp": 1517559133806,
     "user": {
      "displayName": "胡小糊",
      "photoUrl": "//lh6.googleusercontent.com/-ZZheEHVvyCI/AAAAAAAAAAI/AAAAAAAAAAQ/LvrhFpBLdZY/s50-c-k-no/photo.jpg",
      "userId": "111922928557190330260"
     },
     "user_tz": -480
    },
    "id": "GgJhkAOHaw1Y",
    "outputId": "e24ab63d-70b0-439d-c3cc-9b4286213e20"
   },
   "outputs": [
    {
     "data": {
      "text/plain": [
       "(60000L, 28L, 28L, 1L)"
      ]
     },
     "execution_count": 5,
     "metadata": {},
     "output_type": "execute_result"
    }
   ],
   "source": [
    "trn_data = np.expand_dims(trn_data, 3)\n",
    "test_data = np.expand_dims(test_data, 3)\n",
    "trn_data.shape"
   ]
  },
  {
   "cell_type": "markdown",
   "metadata": {
    "colab_type": "text",
    "id": "3tecv2G8aw1a"
   },
   "source": [
    "### 对输入图像进行正则化"
   ]
  },
  {
   "cell_type": "code",
   "execution_count": 6,
   "metadata": {
    "colab": {
     "autoexec": {
      "startup": false,
      "wait_interval": 0
     }
    },
    "colab_type": "code",
    "collapsed": true,
    "id": "L41evN2raw1c"
   },
   "outputs": [],
   "source": [
    "input_mean = trn_data.mean().astype(np.float32)\n",
    "input_std = trn_data.std().astype(np.float32)\n",
    "\n",
    "def norm_input(x):\n",
    "    return (x-input_mean)/input_std"
   ]
  },
  {
   "cell_type": "markdown",
   "metadata": {
    "colab_type": "text",
    "id": "95BL82spaw1d"
   },
   "source": [
    "### 将输入数据转化为batches"
   ]
  },
  {
   "cell_type": "code",
   "execution_count": 7,
   "metadata": {
    "colab": {
     "autoexec": {
      "startup": false,
      "wait_interval": 0
     }
    },
    "colab_type": "code",
    "id": "w-HYoC4daw1e"
   },
   "outputs": [
    {
     "ename": "ValueError",
     "evalue": "NumpyArrayIterator is set to use the dimension ordering convention \"th\" (channels on axis 1), i.e. expected either 1, 3 or 4 channels on axis 1. However, it was passed an array with shape (60000L, 28L, 28L, 1L) (28 channels).",
     "output_type": "error",
     "traceback": [
      "\u001b[1;31m---------------------------------------------------------------------------\u001b[0m",
      "\u001b[1;31mValueError\u001b[0m                                Traceback (most recent call last)",
      "\u001b[1;32m<ipython-input-7-0910fd1d4e1c>\u001b[0m in \u001b[0;36m<module>\u001b[1;34m()\u001b[0m\n\u001b[0;32m      1\u001b[0m \u001b[0mbatch_size\u001b[0m \u001b[1;33m=\u001b[0m \u001b[1;36m64\u001b[0m\u001b[1;33m\u001b[0m\u001b[0m\n\u001b[0;32m      2\u001b[0m \u001b[0mgen\u001b[0m \u001b[1;33m=\u001b[0m \u001b[0mimage\u001b[0m\u001b[1;33m.\u001b[0m\u001b[0mImageDataGenerator\u001b[0m\u001b[1;33m(\u001b[0m\u001b[1;33m)\u001b[0m\u001b[1;33m\u001b[0m\u001b[0m\n\u001b[1;32m----> 3\u001b[1;33m \u001b[0mbatches\u001b[0m \u001b[1;33m=\u001b[0m \u001b[0mgen\u001b[0m\u001b[1;33m.\u001b[0m\u001b[0mflow\u001b[0m\u001b[1;33m(\u001b[0m\u001b[0mtrn_data\u001b[0m\u001b[1;33m,\u001b[0m \u001b[0mtrn_label\u001b[0m\u001b[1;33m,\u001b[0m \u001b[0mbatch_size\u001b[0m\u001b[1;33m=\u001b[0m\u001b[0mbatch_size\u001b[0m\u001b[1;33m)\u001b[0m\u001b[1;33m\u001b[0m\u001b[0m\n\u001b[0m\u001b[0;32m      4\u001b[0m \u001b[0mtest_batches\u001b[0m \u001b[1;33m=\u001b[0m \u001b[0mgen\u001b[0m\u001b[1;33m.\u001b[0m\u001b[0mflow\u001b[0m\u001b[1;33m(\u001b[0m\u001b[0mtest_data\u001b[0m\u001b[1;33m,\u001b[0m \u001b[0mtest_label\u001b[0m\u001b[1;33m,\u001b[0m \u001b[0mbatch_size\u001b[0m\u001b[1;33m=\u001b[0m\u001b[0mbatch_size\u001b[0m\u001b[1;33m)\u001b[0m\u001b[1;33m\u001b[0m\u001b[0m\n",
      "\u001b[1;32mC:\\anaconda2\\lib\\site-packages\\keras\\preprocessing\\image.pyc\u001b[0m in \u001b[0;36mflow\u001b[1;34m(self, X, y, batch_size, shuffle, seed, save_to_dir, save_prefix, save_format)\u001b[0m\n\u001b[0;32m    425\u001b[0m             \u001b[0msave_to_dir\u001b[0m\u001b[1;33m=\u001b[0m\u001b[0msave_to_dir\u001b[0m\u001b[1;33m,\u001b[0m\u001b[1;33m\u001b[0m\u001b[0m\n\u001b[0;32m    426\u001b[0m             \u001b[0msave_prefix\u001b[0m\u001b[1;33m=\u001b[0m\u001b[0msave_prefix\u001b[0m\u001b[1;33m,\u001b[0m\u001b[1;33m\u001b[0m\u001b[0m\n\u001b[1;32m--> 427\u001b[1;33m             save_format=save_format)\n\u001b[0m\u001b[0;32m    428\u001b[0m \u001b[1;33m\u001b[0m\u001b[0m\n\u001b[0;32m    429\u001b[0m     def flow_from_directory(self, directory,\n",
      "\u001b[1;32mC:\\anaconda2\\lib\\site-packages\\keras\\preprocessing\\image.pyc\u001b[0m in \u001b[0;36m__init__\u001b[1;34m(self, x, y, image_data_generator, batch_size, shuffle, seed, dim_ordering, save_to_dir, save_prefix, save_format)\u001b[0m\n\u001b[0;32m    688\u001b[0m                              \u001b[1;34m'either 1, 3 or 4 channels on axis '\u001b[0m \u001b[1;33m+\u001b[0m \u001b[0mstr\u001b[0m\u001b[1;33m(\u001b[0m\u001b[0mchannels_axis\u001b[0m\u001b[1;33m)\u001b[0m \u001b[1;33m+\u001b[0m \u001b[1;34m'. '\u001b[0m\u001b[1;33m\u001b[0m\u001b[0m\n\u001b[0;32m    689\u001b[0m                              \u001b[1;34m'However, it was passed an array with shape '\u001b[0m \u001b[1;33m+\u001b[0m \u001b[0mstr\u001b[0m\u001b[1;33m(\u001b[0m\u001b[0mself\u001b[0m\u001b[1;33m.\u001b[0m\u001b[0mx\u001b[0m\u001b[1;33m.\u001b[0m\u001b[0mshape\u001b[0m\u001b[1;33m)\u001b[0m \u001b[1;33m+\u001b[0m\u001b[1;33m\u001b[0m\u001b[0m\n\u001b[1;32m--> 690\u001b[1;33m                              ' (' + str(self.x.shape[channels_axis]) + ' channels).')\n\u001b[0m\u001b[0;32m    691\u001b[0m         \u001b[1;32mif\u001b[0m \u001b[0my\u001b[0m \u001b[1;32mis\u001b[0m \u001b[1;32mnot\u001b[0m \u001b[0mNone\u001b[0m\u001b[1;33m:\u001b[0m\u001b[1;33m\u001b[0m\u001b[0m\n\u001b[0;32m    692\u001b[0m             \u001b[0mself\u001b[0m\u001b[1;33m.\u001b[0m\u001b[0my\u001b[0m \u001b[1;33m=\u001b[0m \u001b[0mnp\u001b[0m\u001b[1;33m.\u001b[0m\u001b[0masarray\u001b[0m\u001b[1;33m(\u001b[0m\u001b[0my\u001b[0m\u001b[1;33m)\u001b[0m\u001b[1;33m\u001b[0m\u001b[0m\n",
      "\u001b[1;31mValueError\u001b[0m: NumpyArrayIterator is set to use the dimension ordering convention \"th\" (channels on axis 1), i.e. expected either 1, 3 or 4 channels on axis 1. However, it was passed an array with shape (60000L, 28L, 28L, 1L) (28 channels)."
     ]
    }
   ],
   "source": [
    "batch_size = 64\n",
    "gen = image.ImageDataGenerator()\n",
    "batches = gen.flow(trn_data, trn_label, batch_size=batch_size)\n",
    "test_batches = gen.flow(test_data, test_label, batch_size=batch_size)"
   ]
  },
  {
   "cell_type": "markdown",
   "metadata": {
    "colab_type": "text",
    "id": "zjajDX10aw1g"
   },
   "source": [
    "## 1. 简单神经网络模型"
   ]
  },
  {
   "cell_type": "code",
   "execution_count": 8,
   "metadata": {
    "colab": {
     "autoexec": {
      "startup": false,
      "wait_interval": 0
     }
    },
    "colab_type": "code",
    "id": "bg2iIQiiaw1g"
   },
   "outputs": [
    {
     "name": "stderr",
     "output_type": "stream",
     "text": [
      "C:\\anaconda2\\lib\\site-packages\\keras\\layers\\core.py:622: UserWarning: `output_shape` argument not specified for layer lambda_1 and cannot be automatically inferred with the Theano backend. Defaulting to output shape `(None, 28, 28, 1)` (same as input shape). If the expected output shape is different, specify it via the `output_shape` argument.\n",
      "  .format(self.name, input_shape))\n"
     ]
    }
   ],
   "source": [
    "simpleNN = Sequential()\n",
    "simpleNN.add(Lambda(norm_input, input_shape=(28, 28, 1)))\n",
    "simpleNN.add(Flatten())\n",
    "simpleNN.add(Dense(512, activation='relu'))\n",
    "simpleNN.add(Dense(10, activation='softmax'))\n",
    "simpleNN.compile(optimizer=SGD(), loss='categorical_crossentropy', metrics=['accuracy'])"
   ]
  },
  {
   "cell_type": "code",
   "execution_count": 10,
   "metadata": {},
   "outputs": [
    {
     "name": "stdout",
     "output_type": "stream",
     "text": [
      "____________________________________________________________________________________________________\n",
      "Layer (type)                     Output Shape          Param #     Connected to                     \n",
      "====================================================================================================\n",
      "lambda_1 (Lambda)                (None, 28, 28, 1)     0           lambda_input_1[0][0]             \n",
      "____________________________________________________________________________________________________\n",
      "flatten_1 (Flatten)              (None, 784)           0           lambda_1[0][0]                   \n",
      "____________________________________________________________________________________________________\n",
      "dense_1 (Dense)                  (None, 512)           401920      flatten_1[0][0]                  \n",
      "____________________________________________________________________________________________________\n",
      "dense_2 (Dense)                  (None, 10)            5130        dense_1[0][0]                    \n",
      "====================================================================================================\n",
      "Total params: 407,050\n",
      "Trainable params: 407,050\n",
      "Non-trainable params: 0\n",
      "____________________________________________________________________________________________________\n"
     ]
    }
   ],
   "source": [
    "simpleNN.summary()"
   ]
  },
  {
   "cell_type": "markdown",
   "metadata": {
    "colab_type": "text",
    "id": "RM3nru0zaw1l"
   },
   "source": [
    "### 1.1 直接训练"
   ]
  },
  {
   "cell_type": "code",
   "execution_count": 14,
   "metadata": {
    "colab": {
     "autoexec": {
      "startup": false,
      "wait_interval": 0
     },
     "base_uri": "https://localhost:8080/",
     "height": 85,
     "output_extras": [
      {
       "item_id": 32
      },
      {
       "item_id": 33
      }
     ]
    },
    "colab_type": "code",
    "executionInfo": {
     "elapsed": 9862,
     "status": "ok",
     "timestamp": 1517559154669,
     "user": {
      "displayName": "胡小糊",
      "photoUrl": "//lh6.googleusercontent.com/-ZZheEHVvyCI/AAAAAAAAAAI/AAAAAAAAAAQ/LvrhFpBLdZY/s50-c-k-no/photo.jpg",
      "userId": "111922928557190330260"
     },
     "user_tz": -480
    },
    "id": "klVIj3dUaw1l",
    "outputId": "693944d2-7869-412d-ca24-8c25ea8237e3"
   },
   "outputs": [
    {
     "name": "stdout",
     "output_type": "stream",
     "text": [
      "Train on 60000 samples, validate on 10000 samples\n",
      "Epoch 1/1\n",
      "60000/60000 [==============================] - 9s - loss: 0.3306 - acc: 0.9059 - val_loss: 0.2073 - val_acc: 0.9385\n"
     ]
    },
    {
     "data": {
      "text/plain": [
       "<keras.callbacks.History at 0x7fdd773b4b50>"
      ]
     },
     "execution_count": 14,
     "metadata": {
      "tags": []
     },
     "output_type": "execute_result"
    }
   ],
   "source": [
    "#simpleNN.optimizer.lr = 0.1\n",
    "simpleNN.fit(trn_data, trn_label, validation_data=(test_data, test_label), nb_epoch=1)"
   ]
  },
  {
   "cell_type": "code",
   "execution_count": 15,
   "metadata": {
    "colab": {
     "autoexec": {
      "startup": false,
      "wait_interval": 0
     },
     "base_uri": "https://localhost:8080/",
     "height": 153,
     "output_extras": [
      {
       "item_id": 76
      },
      {
       "item_id": 91
      },
      {
       "item_id": 92
      }
     ]
    },
    "colab_type": "code",
    "executionInfo": {
     "elapsed": 26676,
     "status": "ok",
     "timestamp": 1517559182391,
     "user": {
      "displayName": "胡小糊",
      "photoUrl": "//lh6.googleusercontent.com/-ZZheEHVvyCI/AAAAAAAAAAI/AAAAAAAAAAQ/LvrhFpBLdZY/s50-c-k-no/photo.jpg",
      "userId": "111922928557190330260"
     },
     "user_tz": -480
    },
    "id": "4gnrBxEiaw1q",
    "outputId": "b6dea971-e861-4041-f3c7-48eb03f311fb"
   },
   "outputs": [
    {
     "name": "stdout",
     "output_type": "stream",
     "text": [
      "Train on 60000 samples, validate on 10000 samples\n",
      "Epoch 1/3\n",
      "60000/60000 [==============================] - 8s - loss: 0.1824 - acc: 0.9478 - val_loss: 0.1572 - val_acc: 0.9546\n",
      "Epoch 2/3\n",
      "60000/60000 [==============================] - 8s - loss: 0.1395 - acc: 0.9610 - val_loss: 0.1314 - val_acc: 0.9613\n",
      "Epoch 3/3\n",
      "33856/60000 [===============>..............] - ETA: 3s - loss: 0.1193 - acc: 0.966860000/60000 [==============================] - 8s - loss: 0.1140 - acc: 0.9684 - val_loss: 0.1140 - val_acc: 0.9658\n"
     ]
    },
    {
     "data": {
      "text/plain": [
       "<keras.callbacks.History at 0x7fddb1d39f50>"
      ]
     },
     "execution_count": 15,
     "metadata": {
      "tags": []
     },
     "output_type": "execute_result"
    }
   ],
   "source": [
    "simpleNN.optimizer.lr = 0.01\n",
    "simpleNN.fit(trn_data, trn_label, validation_data=(test_data, test_label), nb_epoch=3)"
   ]
  },
  {
   "cell_type": "markdown",
   "metadata": {
    "colab_type": "text",
    "id": "9nIomrpGaw1x"
   },
   "source": [
    "### 1.2 生成batch再训练\n",
    "\n",
    "利用ImageDataGenerator(), 使用fit_generator而不是fit\n",
    "注意fit_generator的文档中参数由于版本升级发生了变化"
   ]
  },
  {
   "cell_type": "code",
   "execution_count": 17,
   "metadata": {
    "colab": {
     "autoexec": {
      "startup": false,
      "wait_interval": 0
     },
     "base_uri": "https://localhost:8080/",
     "height": 68,
     "output_extras": [
      {
       "item_id": 44
      },
      {
       "item_id": 45
      }
     ]
    },
    "colab_type": "code",
    "executionInfo": {
     "elapsed": 14684,
     "status": "ok",
     "timestamp": 1517559221499,
     "user": {
      "displayName": "胡小糊",
      "photoUrl": "//lh6.googleusercontent.com/-ZZheEHVvyCI/AAAAAAAAAAI/AAAAAAAAAAQ/LvrhFpBLdZY/s50-c-k-no/photo.jpg",
      "userId": "111922928557190330260"
     },
     "user_tz": -480
    },
    "id": "W8YP_TElaw1y",
    "outputId": "75bde713-3e1b-47be-9e49-9b3a08398455"
   },
   "outputs": [
    {
     "name": "stdout",
     "output_type": "stream",
     "text": [
      "Epoch 1/1\n",
      "60000/60000 [==============================] - 13s - loss: 0.2080 - acc: 0.9389 - val_loss: 0.1421 - val_acc: 0.9528\n"
     ]
    },
    {
     "data": {
      "text/plain": [
       "<keras.callbacks.History at 0x7fdd730c0bd0>"
      ]
     },
     "execution_count": 17,
     "metadata": {
      "tags": []
     },
     "output_type": "execute_result"
    }
   ],
   "source": [
    "simpleNN.optimizer.lr = 0.1\n",
    "simpleNN.fit_generator(batches, trn_data.shape[0], nb_epoch=1, validation_data=test_batches, nb_val_samples=test_data.shape[0])"
   ]
  },
  {
   "cell_type": "code",
   "execution_count": 18,
   "metadata": {
    "colab": {
     "autoexec": {
      "startup": false,
      "wait_interval": 0
     },
     "base_uri": "https://localhost:8080/",
     "height": 136,
     "output_extras": [
      {
       "item_id": 106
      },
      {
       "item_id": 136
      },
      {
       "item_id": 137
      }
     ]
    },
    "colab_type": "code",
    "executionInfo": {
     "elapsed": 45290,
     "status": "ok",
     "timestamp": 1517559269104,
     "user": {
      "displayName": "胡小糊",
      "photoUrl": "//lh6.googleusercontent.com/-ZZheEHVvyCI/AAAAAAAAAAI/AAAAAAAAAAQ/LvrhFpBLdZY/s50-c-k-no/photo.jpg",
      "userId": "111922928557190330260"
     },
     "user_tz": -480
    },
    "id": "93mt4Sg9aw13",
    "outputId": "7a4d4651-99e2-462a-e7af-c2288b623d29"
   },
   "outputs": [
    {
     "name": "stdout",
     "output_type": "stream",
     "text": [
      "Epoch 1/3\n",
      "60000/60000 [==============================] - 14s - loss: 0.0846 - acc: 0.9747 - val_loss: 0.0835 - val_acc: 0.9744\n",
      "Epoch 2/3\n",
      "60000/60000 [==============================] - 14s - loss: 0.0560 - acc: 0.9838 - val_loss: 0.0734 - val_acc: 0.9777\n",
      "Epoch 3/3\n",
      "22464/60000 [==========>...................] - ETA: 8s - loss: 0.0395 - acc: 0.989860000/60000 [==============================] - 14s - loss: 0.0389 - acc: 0.9895 - val_loss: 0.0682 - val_acc: 0.9788\n"
     ]
    },
    {
     "data": {
      "text/plain": [
       "<keras.callbacks.History at 0x7fdd77327b90>"
      ]
     },
     "execution_count": 18,
     "metadata": {
      "tags": []
     },
     "output_type": "execute_result"
    }
   ],
   "source": [
    "simpleNN.optimizer.lr = 0.01\n",
    "simpleNN.fit_generator(batches, trn_data.shape[0], nb_epoch=3, validation_data=test_batches, nb_val_samples=test_data.shape[0])"
   ]
  },
  {
   "cell_type": "markdown",
   "metadata": {
    "colab_type": "text",
    "id": "XXPq4UXXaw17"
   },
   "source": [
    "## 2. 类似vgg16的卷积神经网络模型"
   ]
  },
  {
   "cell_type": "markdown",
   "metadata": {
    "colab_type": "text",
    "id": "GJNAXPpTaw17"
   },
   "source": [
    "注意比较各类activation之间的关系, 只有最后一个线性层使用softmax使得结果One-Hot-Coded, 其余层使用relu"
   ]
  },
  {
   "cell_type": "code",
   "execution_count": 14,
   "metadata": {
    "colab": {
     "autoexec": {
      "startup": false,
      "wait_interval": 0
     }
    },
    "colab_type": "code",
    "collapsed": true,
    "id": "hhqBJh1Waw18"
   },
   "outputs": [],
   "source": [
    "def getSimpleCNN():\n",
    "  simpleCNN = Sequential([\n",
    "      Lambda(norm_input, input_shape=(1, 28, 28)),\n",
    "      Convolution2D(32, 3, 3, activation=\"relu\"),\n",
    "      Convolution2D(32, 3, 3, activation=\"relu\"),\n",
    "      MaxPooling2D(),\n",
    "      Convolution2D(64, 3, 3, activation=\"relu\"),\n",
    "      Convolution2D(64, 3, 3, activation=\"relu\"),\n",
    "      MaxPooling2D(),\n",
    "      Flatten(),\n",
    "      Dense(512, activation=\"relu\"),\n",
    "      Dense(10, activation=\"softmax\")])\n",
    "  simpleCNN.compile(SGD(), loss='categorical_crossentropy', metrics=['accuracy'])\n",
    "  return simpleCNN"
   ]
  },
  {
   "cell_type": "code",
   "execution_count": 15,
   "metadata": {},
   "outputs": [
    {
     "name": "stderr",
     "output_type": "stream",
     "text": [
      "C:\\anaconda2\\lib\\site-packages\\keras\\layers\\core.py:622: UserWarning: `output_shape` argument not specified for layer lambda_4 and cannot be automatically inferred with the Theano backend. Defaulting to output shape `(None, 1, 28, 28)` (same as input shape). If the expected output shape is different, specify it via the `output_shape` argument.\n",
      "  .format(self.name, input_shape))\n"
     ]
    },
    {
     "name": "stdout",
     "output_type": "stream",
     "text": [
      "____________________________________________________________________________________________________\n",
      "Layer (type)                     Output Shape          Param #     Connected to                     \n",
      "====================================================================================================\n",
      "lambda_4 (Lambda)                (None, 1, 28, 28)     0           lambda_input_4[0][0]             \n",
      "____________________________________________________________________________________________________\n",
      "convolution2d_9 (Convolution2D)  (None, 32, 26, 26)    320         lambda_4[0][0]                   \n",
      "____________________________________________________________________________________________________\n",
      "convolution2d_10 (Convolution2D) (None, 32, 24, 24)    9248        convolution2d_9[0][0]            \n",
      "____________________________________________________________________________________________________\n",
      "maxpooling2d_5 (MaxPooling2D)    (None, 32, 12, 12)    0           convolution2d_10[0][0]           \n",
      "____________________________________________________________________________________________________\n",
      "convolution2d_11 (Convolution2D) (None, 64, 10, 10)    18496       maxpooling2d_5[0][0]             \n",
      "____________________________________________________________________________________________________\n",
      "convolution2d_12 (Convolution2D) (None, 64, 8, 8)      36928       convolution2d_11[0][0]           \n",
      "____________________________________________________________________________________________________\n",
      "maxpooling2d_6 (MaxPooling2D)    (None, 64, 4, 4)      0           convolution2d_12[0][0]           \n",
      "____________________________________________________________________________________________________\n",
      "flatten_4 (Flatten)              (None, 1024)          0           maxpooling2d_6[0][0]             \n",
      "____________________________________________________________________________________________________\n",
      "dense_7 (Dense)                  (None, 512)           524800      flatten_4[0][0]                  \n",
      "____________________________________________________________________________________________________\n",
      "dense_8 (Dense)                  (None, 10)            5130        dense_7[0][0]                    \n",
      "====================================================================================================\n",
      "Total params: 594,922\n",
      "Trainable params: 594,922\n",
      "Non-trainable params: 0\n",
      "____________________________________________________________________________________________________\n"
     ]
    }
   ],
   "source": [
    "model = getSimpleCNN()\n",
    "model.summary()"
   ]
  },
  {
   "cell_type": "code",
   "execution_count": 20,
   "metadata": {
    "colab": {
     "autoexec": {
      "startup": false,
      "wait_interval": 0
     },
     "base_uri": "https://localhost:8080/",
     "height": 136,
     "output_extras": [
      {
       "item_id": 127
      },
      {
       "item_id": 183
      },
      {
       "item_id": 184
      }
     ]
    },
    "colab_type": "code",
    "executionInfo": {
     "elapsed": 58504,
     "status": "ok",
     "timestamp": 1517559339054,
     "user": {
      "displayName": "胡小糊",
      "photoUrl": "//lh6.googleusercontent.com/-ZZheEHVvyCI/AAAAAAAAAAI/AAAAAAAAAAQ/LvrhFpBLdZY/s50-c-k-no/photo.jpg",
      "userId": "111922928557190330260"
     },
     "user_tz": -480
    },
    "id": "hZrGbWUZaw1-",
    "outputId": "ea421a96-4034-4b8e-aab0-cfb35cda3dc8"
   },
   "outputs": [
    {
     "name": "stdout",
     "output_type": "stream",
     "text": [
      "Epoch 1/3\n",
      "60000/60000 [==============================] - 19s - loss: 0.1742 - acc: 0.9454 - val_loss: 0.0399 - val_acc: 0.9863\n",
      "Epoch 2/3\n",
      "60000/60000 [==============================] - 18s - loss: 0.0408 - acc: 0.9874 - val_loss: 0.0279 - val_acc: 0.9913\n",
      "Epoch 3/3\n",
      " 2176/60000 [>.............................] - ETA: 16s - loss: 0.0437 - acc: 0.990360000/60000 [==============================] - 18s - loss: 0.0262 - acc: 0.9919 - val_loss: 0.0276 - val_acc: 0.9912\n"
     ]
    },
    {
     "data": {
      "text/plain": [
       "<keras.callbacks.History at 0x7fdd6fd1bfd0>"
      ]
     },
     "execution_count": 20,
     "metadata": {
      "tags": []
     },
     "output_type": "execute_result"
    }
   ],
   "source": [
    "simpleCNN = getSimpleCNN()\n",
    "simpleCNN.optimizer.lr=0.1\n",
    "simpleCNN.fit_generator(batches, trn_data.shape[0], nb_epoch=3, validation_data=test_batches, nb_val_samples=test_data.shape[0])"
   ]
  },
  {
   "cell_type": "code",
   "execution_count": 21,
   "metadata": {
    "colab": {
     "autoexec": {
      "startup": false,
      "wait_interval": 0
     },
     "base_uri": "https://localhost:8080/",
     "height": 374,
     "output_extras": [
      {
       "item_id": 98
      },
      {
       "item_id": 134
      },
      {
       "item_id": 170
      },
      {
       "item_id": 210
      },
      {
       "item_id": 241
      },
      {
       "item_id": 242
      }
     ]
    },
    "colab_type": "code",
    "executionInfo": {
     "elapsed": 195520,
     "status": "ok",
     "timestamp": 1517559534646,
     "user": {
      "displayName": "胡小糊",
      "photoUrl": "//lh6.googleusercontent.com/-ZZheEHVvyCI/AAAAAAAAAAI/AAAAAAAAAAQ/LvrhFpBLdZY/s50-c-k-no/photo.jpg",
      "userId": "111922928557190330260"
     },
     "user_tz": -480
    },
    "id": "H-w6p29Kaw2D",
    "outputId": "712e462c-fc68-4d13-e802-1cb3a72831ca"
   },
   "outputs": [
    {
     "name": "stdout",
     "output_type": "stream",
     "text": [
      "Epoch 1/10\n",
      "60000/60000 [==============================] - 19s - loss: 0.0182 - acc: 0.9942 - val_loss: 0.0285 - val_acc: 0.9913\n",
      "Epoch 2/10\n",
      "60000/60000 [==============================] - 19s - loss: 0.0148 - acc: 0.9954 - val_loss: 0.0245 - val_acc: 0.9919\n",
      "Epoch 3/10\n",
      "  448/60000 [..............................] - ETA: 16s - loss: 0.0075 - acc: 0.995560000/60000 [==============================] - 19s - loss: 0.0098 - acc: 0.9969 - val_loss: 0.0252 - val_acc: 0.9924\n",
      "Epoch 4/10\n",
      "60000/60000 [==============================] - 19s - loss: 0.0088 - acc: 0.9970 - val_loss: 0.0254 - val_acc: 0.9929\n",
      "Epoch 5/10\n",
      " 4608/60000 [=>............................] - ETA: 16s - loss: 0.0044 - acc: 0.998360000/60000 [==============================] - 19s - loss: 0.0065 - acc: 0.9978 - val_loss: 0.0268 - val_acc: 0.9932\n",
      "Epoch 6/10\n",
      "60000/60000 [==============================] - 19s - loss: 0.0050 - acc: 0.9987 - val_loss: 0.0306 - val_acc: 0.9912\n",
      "Epoch 7/10\n",
      " 5696/60000 [=>............................] - ETA: 15s - loss: 0.0040 - acc: 0.998960000/60000 [==============================] - 19s - loss: 0.0037 - acc: 0.9988 - val_loss: 0.0239 - val_acc: 0.9935\n",
      "Epoch 8/10\n",
      "60000/60000 [==============================] - 19s - loss: 0.0035 - acc: 0.9990 - val_loss: 0.0306 - val_acc: 0.9927\n",
      "Epoch 9/10\n",
      " 5888/60000 [=>............................] - ETA: 15s - loss: 0.0019 - acc: 0.999560000/60000 [==============================] - 19s - loss: 0.0036 - acc: 0.9989 - val_loss: 0.0324 - val_acc: 0.9931\n",
      "Epoch 10/10\n",
      "60000/60000 [==============================] - 19s - loss: 0.0022 - acc: 0.9992 - val_loss: 0.0272 - val_acc: 0.9939\n"
     ]
    },
    {
     "data": {
      "text/plain": [
       "<keras.callbacks.History at 0x7fdd6fc53d10>"
      ]
     },
     "execution_count": 21,
     "metadata": {
      "tags": []
     },
     "output_type": "execute_result"
    }
   ],
   "source": [
    "simpleCNN.optimizer.lr=0.01\n",
    "simpleCNN.fit_generator(batches, trn_data.shape[0], nb_epoch=10, validation_data=test_batches, nb_val_samples=test_data.shape[0])"
   ]
  },
  {
   "cell_type": "code",
   "execution_count": 22,
   "metadata": {
    "colab": {
     "autoexec": {
      "startup": false,
      "wait_interval": 0
     },
     "base_uri": "https://localhost:8080/",
     "height": 68,
     "output_extras": [
      {
       "item_id": 19
      },
      {
       "item_id": 20
      }
     ]
    },
    "colab_type": "code",
    "executionInfo": {
     "elapsed": 21136,
     "status": "ok",
     "timestamp": 1517559555830,
     "user": {
      "displayName": "胡小糊",
      "photoUrl": "//lh6.googleusercontent.com/-ZZheEHVvyCI/AAAAAAAAAAI/AAAAAAAAAAQ/LvrhFpBLdZY/s50-c-k-no/photo.jpg",
      "userId": "111922928557190330260"
     },
     "user_tz": -480
    },
    "id": "gKjn_1gMaw2G",
    "outputId": "512b6ce6-6900-4ff0-b328-beae11918c1e"
   },
   "outputs": [
    {
     "name": "stdout",
     "output_type": "stream",
     "text": [
      "Epoch 1/1\n",
      "60000/60000 [==============================] - 20s - loss: 0.0024 - acc: 0.9993 - val_loss: 0.0481 - val_acc: 0.9899\n"
     ]
    },
    {
     "data": {
      "text/plain": [
       "<keras.callbacks.History at 0x7fdd7308ae50>"
      ]
     },
     "execution_count": 22,
     "metadata": {
      "tags": []
     },
     "output_type": "execute_result"
    }
   ],
   "source": [
    "simpleCNN.optimizer.lr=0.001\n",
    "simpleCNN.fit_generator(batches, trn_data.shape[0], nb_epoch=1, validation_data=test_batches, nb_val_samples=test_data.shape[0])"
   ]
  },
  {
   "cell_type": "markdown",
   "metadata": {
    "colab_type": "text",
    "id": "rBUcIl_waw2J"
   },
   "source": [
    "## Data Augmentation"
   ]
  },
  {
   "cell_type": "markdown",
   "metadata": {
    "colab_type": "text",
    "id": "MNGmm8-1aw2M"
   },
   "source": [
    "同样是利用ImageDataGenerator, 传入Data Augmentation的参数. 参数规定了随机对图片进行旋转、缩放等操作等角度、幅度范围"
   ]
  },
  {
   "cell_type": "code",
   "execution_count": 0,
   "metadata": {
    "colab": {
     "autoexec": {
      "startup": false,
      "wait_interval": 0
     }
    },
    "colab_type": "code",
    "collapsed": true,
    "id": "zEZFKlAwaw2N"
   },
   "outputs": [],
   "source": [
    "batch_size = 64\n",
    "gen = image.ImageDataGenerator(rotation_range=10, width_shift_range=0.1, height_shift_range=0.1, zoom_range=0.1, shear_range=0.5)\n",
    "batches = gen.flow(trn_data, trn_label, batch_size=batch_size)\n",
    "test_batches = gen.flow(test_data, test_label, batch_size=batch_size)"
   ]
  },
  {
   "cell_type": "code",
   "execution_count": 24,
   "metadata": {
    "colab": {
     "autoexec": {
      "startup": false,
      "wait_interval": 0
     },
     "base_uri": "https://localhost:8080/",
     "height": 136,
     "output_extras": [
      {
       "item_id": 130
      },
      {
       "item_id": 197
      },
      {
       "item_id": 198
      }
     ]
    },
    "colab_type": "code",
    "executionInfo": {
     "elapsed": 63455,
     "status": "ok",
     "timestamp": 1517559654364,
     "user": {
      "displayName": "胡小糊",
      "photoUrl": "//lh6.googleusercontent.com/-ZZheEHVvyCI/AAAAAAAAAAI/AAAAAAAAAAQ/LvrhFpBLdZY/s50-c-k-no/photo.jpg",
      "userId": "111922928557190330260"
     },
     "user_tz": -480
    },
    "id": "Q-Z_wuDraw2P",
    "outputId": "3e859f1a-c544-4bad-868d-3a9d3cab1e10"
   },
   "outputs": [
    {
     "name": "stdout",
     "output_type": "stream",
     "text": [
      "Epoch 1/3\n",
      "60000/60000 [==============================] - 20s - loss: 0.4193 - acc: 0.8631 - val_loss: 0.1189 - val_acc: 0.9632\n",
      "Epoch 2/3\n",
      "60000/60000 [==============================] - 20s - loss: 0.1137 - acc: 0.9641 - val_loss: 0.0990 - val_acc: 0.9686\n",
      "Epoch 3/3\n",
      "  256/60000 [..............................] - ETA: 17s - loss: 0.0933 - acc: 0.972760000/60000 [==============================] - 21s - loss: 0.0865 - acc: 0.9734 - val_loss: 0.0714 - val_acc: 0.9781\n"
     ]
    },
    {
     "data": {
      "text/plain": [
       "<keras.callbacks.History at 0x7fdd6ee6aa50>"
      ]
     },
     "execution_count": 24,
     "metadata": {
      "tags": []
     },
     "output_type": "execute_result"
    }
   ],
   "source": [
    "simpleCNN = getSimpleCNN()\n",
    "simpleCNN.optimizer.lr=0.1\n",
    "simpleCNN.fit_generator(batches, trn_data.shape[0], nb_epoch=3, validation_data=test_batches, nb_val_samples=test_data.shape[0])"
   ]
  },
  {
   "cell_type": "code",
   "execution_count": 25,
   "metadata": {
    "colab": {
     "autoexec": {
      "startup": false,
      "wait_interval": 0
     },
     "base_uri": "https://localhost:8080/",
     "height": 374,
     "output_extras": [
      {
       "item_id": 126
      },
      {
       "item_id": 206
      },
      {
       "item_id": 318
      },
      {
       "item_id": 451
      },
      {
       "item_id": 590
      },
      {
       "item_id": 656
      },
      {
       "item_id": 657
      }
     ]
    },
    "colab_type": "code",
    "executionInfo": {
     "elapsed": 215984,
     "status": "ok",
     "timestamp": 1517559927445,
     "user": {
      "displayName": "胡小糊",
      "photoUrl": "//lh6.googleusercontent.com/-ZZheEHVvyCI/AAAAAAAAAAI/AAAAAAAAAAQ/LvrhFpBLdZY/s50-c-k-no/photo.jpg",
      "userId": "111922928557190330260"
     },
     "user_tz": -480
    },
    "id": "jSRtcMapcAhX",
    "outputId": "0002c3ee-0ff4-466e-b6a7-4cfbf6a38975"
   },
   "outputs": [
    {
     "name": "stdout",
     "output_type": "stream",
     "text": [
      "Epoch 1/10\n",
      "60000/60000 [==============================] - 21s - loss: 0.0707 - acc: 0.9770 - val_loss: 0.0648 - val_acc: 0.9802\n",
      "Epoch 2/10\n",
      "59200/60000 [============================>.] - ETA: 0s - loss: 0.0594 - acc: 0.981660000/60000 [==============================] - 21s - loss: 0.0595 - acc: 0.9816 - val_loss: 0.0553 - val_acc: 0.9814\n",
      "Epoch 3/10\n",
      "60000/60000 [==============================] - 21s - loss: 0.0530 - acc: 0.9838 - val_loss: 0.0484 - val_acc: 0.9858\n",
      "Epoch 4/10\n",
      "17152/60000 [=======>......................] - ETA: 13s - loss: 0.0543 - acc: 0.983560000/60000 [==============================] - 21s - loss: 0.0532 - acc: 0.9833 - val_loss: 0.0469 - val_acc: 0.9844\n",
      "Epoch 5/10\n",
      "60000/60000 [==============================] - 21s - loss: 0.0445 - acc: 0.9858 - val_loss: 0.0411 - val_acc: 0.9865\n",
      "Epoch 6/10\n",
      " 7936/60000 [==>...........................] - ETA: 16s - loss: 0.0442 - acc: 0.986160000/60000 [==============================] - 21s - loss: 0.0445 - acc: 0.9859 - val_loss: 0.0357 - val_acc: 0.9886\n",
      "Epoch 7/10\n",
      "60000/60000 [==============================] - 21s - loss: 0.0425 - acc: 0.9873 - val_loss: 0.0387 - val_acc: 0.9872\n",
      "Epoch 8/10\n",
      " 4352/60000 [=>............................] - ETA: 18s - loss: 0.0376 - acc: 0.989260000/60000 [==============================] - 21s - loss: 0.0417 - acc: 0.9873 - val_loss: 0.0340 - val_acc: 0.9894\n",
      "Epoch 9/10\n",
      "60000/60000 [==============================] - 21s - loss: 0.0395 - acc: 0.9878 - val_loss: 0.0331 - val_acc: 0.9882\n",
      "Epoch 10/10\n",
      " 3776/60000 [>.............................] - ETA: 17s - loss: 0.0367 - acc: 0.987060000/60000 [==============================] - 21s - loss: 0.0360 - acc: 0.9888 - val_loss: 0.0339 - val_acc: 0.9896\n"
     ]
    },
    {
     "data": {
      "text/plain": [
       "<keras.callbacks.History at 0x7fdd6fc53610>"
      ]
     },
     "execution_count": 25,
     "metadata": {
      "tags": []
     },
     "output_type": "execute_result"
    }
   ],
   "source": [
    "simpleCNN.optimizer.lr=0.01\n",
    "simpleCNN.fit_generator(batches, trn_data.shape[0], nb_epoch=10, validation_data=test_batches, nb_val_samples=test_data.shape[0])"
   ]
  },
  {
   "cell_type": "code",
   "execution_count": 26,
   "metadata": {
    "colab": {
     "autoexec": {
      "startup": false,
      "wait_interval": 0
     },
     "base_uri": "https://localhost:8080/",
     "height": 68,
     "output_extras": [
      {
       "item_id": 36
      },
      {
       "item_id": 37
      }
     ]
    },
    "colab_type": "code",
    "executionInfo": {
     "elapsed": 22962,
     "status": "ok",
     "timestamp": 1517559950464,
     "user": {
      "displayName": "胡小糊",
      "photoUrl": "//lh6.googleusercontent.com/-ZZheEHVvyCI/AAAAAAAAAAI/AAAAAAAAAAQ/LvrhFpBLdZY/s50-c-k-no/photo.jpg",
      "userId": "111922928557190330260"
     },
     "user_tz": -480
    },
    "id": "RPIWO96jcBD5",
    "outputId": "3ff6c554-0577-4d20-8fa6-b28f22703a58"
   },
   "outputs": [
    {
     "name": "stdout",
     "output_type": "stream",
     "text": [
      "Epoch 1/1\n",
      "60000/60000 [==============================] - 22s - loss: 0.0368 - acc: 0.9882 - val_loss: 0.0368 - val_acc: 0.9878\n"
     ]
    },
    {
     "data": {
      "text/plain": [
       "<keras.callbacks.History at 0x7fdd6fc53d50>"
      ]
     },
     "execution_count": 26,
     "metadata": {
      "tags": []
     },
     "output_type": "execute_result"
    }
   ],
   "source": [
    "simpleCNN.optimizer.lr=0.001\n",
    "simpleCNN.fit_generator(batches, trn_data.shape[0], nb_epoch=1, validation_data=test_batches, nb_val_samples=test_data.shape[0])"
   ]
  },
  {
   "cell_type": "markdown",
   "metadata": {
    "colab_type": "text",
    "id": "4Cy4SKqQaw2S"
   },
   "source": [
    "## Batch Normalization"
   ]
  },
  {
   "cell_type": "markdown",
   "metadata": {
    "colab_type": "text",
    "id": "T-lM4CHaaw2T"
   },
   "source": [
    "注意, 对Batch Normalization要设定其axis为色彩通道所对应的axis, 默认为-1也是可以的"
   ]
  },
  {
   "cell_type": "code",
   "execution_count": 0,
   "metadata": {
    "colab": {
     "autoexec": {
      "startup": false,
      "wait_interval": 0
     }
    },
    "colab_type": "code",
    "collapsed": true,
    "id": "7WgYH1Qbaw2T"
   },
   "outputs": [],
   "source": [
    "bn_model = Sequential([\n",
    "    Lambda(norm_input, input_shape=(28, 28, 1)),\n",
    "    Convolution2D(32, 3, 3, activation='relu'),\n",
    "    BatchNormalization(axis=1),\n",
    "    Convolution2D(32, 3, 3, activation=\"relu\"),\n",
    "    MaxPooling2D(),\n",
    "    BatchNormalization(),\n",
    "    Convolution2D(64, 3, 3, activation='relu'),\n",
    "    BatchNormalization(axis=1),\n",
    "    Convolution2D(64, 3, 3, activation=\"relu\"),\n",
    "    MaxPooling2D(),\n",
    "    BatchNormalization(axis=1),\n",
    "    Flatten(),\n",
    "    Dense(512, activation='relu'),\n",
    "    Dense(10, activation='softmax')\n",
    "])\n",
    "bn_model.compile(SGD(), loss='categorical_crossentropy', metrics=['accuracy'])"
   ]
  },
  {
   "cell_type": "code",
   "execution_count": 30,
   "metadata": {
    "colab": {
     "autoexec": {
      "startup": false,
      "wait_interval": 0
     },
     "base_uri": "https://localhost:8080/",
     "height": 136,
     "output_extras": [
      {
       "item_id": 157
      },
      {
       "item_id": 285
      },
      {
       "item_id": 305
      },
      {
       "item_id": 306
      }
     ]
    },
    "colab_type": "code",
    "executionInfo": {
     "elapsed": 93797,
     "status": "ok",
     "timestamp": 1517560526016,
     "user": {
      "displayName": "胡小糊",
      "photoUrl": "//lh6.googleusercontent.com/-ZZheEHVvyCI/AAAAAAAAAAI/AAAAAAAAAAQ/LvrhFpBLdZY/s50-c-k-no/photo.jpg",
      "userId": "111922928557190330260"
     },
     "user_tz": -480
    },
    "id": "KZd4MtrJaw2V",
    "outputId": "306665f9-378f-4f32-8e00-6b369c207307"
   },
   "outputs": [
    {
     "name": "stdout",
     "output_type": "stream",
     "text": [
      "Epoch 1/3\n",
      "60000/60000 [==============================] - 31s - loss: 0.2138 - acc: 0.9341 - val_loss: 0.0839 - val_acc: 0.9738\n",
      "Epoch 2/3\n",
      "31936/60000 [==============>...............] - ETA: 12s - loss: 0.0856 - acc: 0.973260000/60000 [==============================] - 30s - loss: 0.0774 - acc: 0.9759 - val_loss: 0.0638 - val_acc: 0.9784\n",
      "Epoch 3/3\n",
      "49344/60000 [=======================>......] - ETA: 5s - loss: 0.0589 - acc: 0.981260000/60000 [==============================] - 30s - loss: 0.0585 - acc: 0.9814 - val_loss: 0.0455 - val_acc: 0.9847\n"
     ]
    },
    {
     "data": {
      "text/plain": [
       "<keras.callbacks.History at 0x7fdd6d1973d0>"
      ]
     },
     "execution_count": 30,
     "metadata": {
      "tags": []
     },
     "output_type": "execute_result"
    }
   ],
   "source": [
    "bn_model.optimizer.lr = 0.1\n",
    "bn_model.fit_generator(batches, trn_label.shape[0], validation_data=test_batches, nb_val_samples=test_label.shape[0], nb_epoch=3)"
   ]
  },
  {
   "cell_type": "code",
   "execution_count": 31,
   "metadata": {
    "colab": {
     "autoexec": {
      "startup": false,
      "wait_interval": 0
     },
     "base_uri": "https://localhost:8080/",
     "height": 374,
     "output_extras": [
      {
       "item_id": 115
      },
      {
       "item_id": 153
      },
      {
       "item_id": 185
      },
      {
       "item_id": 216
      },
      {
       "item_id": 247
      },
      {
       "item_id": 300
      },
      {
       "item_id": 346
      },
      {
       "item_id": 420
      },
      {
       "item_id": 425
      },
      {
       "item_id": 426
      }
     ]
    },
    "colab_type": "code",
    "executionInfo": {
     "elapsed": 299213,
     "status": "ok",
     "timestamp": 1517560825281,
     "user": {
      "displayName": "胡小糊",
      "photoUrl": "//lh6.googleusercontent.com/-ZZheEHVvyCI/AAAAAAAAAAI/AAAAAAAAAAQ/LvrhFpBLdZY/s50-c-k-no/photo.jpg",
      "userId": "111922928557190330260"
     },
     "user_tz": -480
    },
    "id": "TGIfDM7maw2X",
    "outputId": "75f0191e-1307-40f8-ae6b-c29e3c414dad"
   },
   "outputs": [
    {
     "name": "stdout",
     "output_type": "stream",
     "text": [
      "Epoch 1/10\n",
      "60000/60000 [==============================] - 29s - loss: 0.0529 - acc: 0.9835 - val_loss: 0.0493 - val_acc: 0.9859\n",
      "Epoch 2/10\n",
      "32384/60000 [===============>..............] - ETA: 12s - loss: 0.0456 - acc: 0.985960000/60000 [==============================] - 29s - loss: 0.0450 - acc: 0.9859 - val_loss: 0.0475 - val_acc: 0.9851\n",
      "Epoch 3/10\n",
      "50752/60000 [========================>.....] - ETA: 4s - loss: 0.0419 - acc: 0.986660000/60000 [==============================] - 29s - loss: 0.0416 - acc: 0.9866 - val_loss: 0.0310 - val_acc: 0.9895\n",
      "Epoch 4/10\n",
      "56928/60000 [===========================>..] - ETA: 1s - loss: 0.0393 - acc: 0.988060000/60000 [==============================] - 30s - loss: 0.0389 - acc: 0.9882 - val_loss: 0.0327 - val_acc: 0.9899\n",
      "Epoch 5/10\n",
      "59424/60000 [============================>.] - ETA: 0s - loss: 0.0362 - acc: 0.988760000/60000 [==============================] - 29s - loss: 0.0364 - acc: 0.9887 - val_loss: 0.0324 - val_acc: 0.9900\n",
      "Epoch 6/10\n",
      "59936/60000 [============================>.] - ETA: 0s - loss: 0.0337 - acc: 0.989460000/60000 [==============================] - 30s - loss: 0.0337 - acc: 0.9894 - val_loss: 0.0364 - val_acc: 0.9880\n",
      "Epoch 7/10\n",
      "60000/60000 [==============================] - 29s - loss: 0.0326 - acc: 0.9897 - val_loss: 0.0303 - val_acc: 0.9895\n",
      "Epoch 8/10\n",
      "  704/60000 [..............................] - ETA: 28s - loss: 0.0418 - acc: 0.985860000/60000 [==============================] - 30s - loss: 0.0303 - acc: 0.9905 - val_loss: 0.0265 - val_acc: 0.9918\n",
      "Epoch 9/10\n",
      "37376/60000 [=================>............] - ETA: 10s - loss: 0.0302 - acc: 0.990560000/60000 [==============================] - 29s - loss: 0.0304 - acc: 0.9905 - val_loss: 0.0297 - val_acc: 0.9906\n",
      "Epoch 10/10\n",
      "51392/60000 [========================>.....] - ETA: 3s - loss: 0.0316 - acc: 0.990060000/60000 [==============================] - 29s - loss: 0.0311 - acc: 0.9901 - val_loss: 0.0262 - val_acc: 0.9910\n"
     ]
    },
    {
     "data": {
      "text/plain": [
       "<keras.callbacks.History at 0x7fdd6fc53c10>"
      ]
     },
     "execution_count": 31,
     "metadata": {
      "tags": []
     },
     "output_type": "execute_result"
    }
   ],
   "source": [
    "bn_model.optimizer.lr = 0.01\n",
    "bn_model.fit_generator(batches, trn_label.shape[0], validation_data=test_batches, nb_val_samples=test_label.shape[0], nb_epoch=10)"
   ]
  },
  {
   "cell_type": "code",
   "execution_count": 32,
   "metadata": {
    "colab": {
     "autoexec": {
      "startup": false,
      "wait_interval": 0
     },
     "base_uri": "https://localhost:8080/",
     "height": 68,
     "output_extras": [
      {
       "item_id": 52
      },
      {
       "item_id": 53
      }
     ]
    },
    "colab_type": "code",
    "executionInfo": {
     "elapsed": 31039,
     "status": "ok",
     "timestamp": 1517560856346,
     "user": {
      "displayName": "胡小糊",
      "photoUrl": "//lh6.googleusercontent.com/-ZZheEHVvyCI/AAAAAAAAAAI/AAAAAAAAAAQ/LvrhFpBLdZY/s50-c-k-no/photo.jpg",
      "userId": "111922928557190330260"
     },
     "user_tz": -480
    },
    "id": "OQ1zkSCcaw2Z",
    "outputId": "17358a54-7483-4459-c3da-25cbda04729b"
   },
   "outputs": [
    {
     "name": "stdout",
     "output_type": "stream",
     "text": [
      "Epoch 1/1\n",
      "60000/60000 [==============================] - 30s - loss: 0.0265 - acc: 0.9914 - val_loss: 0.0293 - val_acc: 0.9897\n"
     ]
    },
    {
     "data": {
      "text/plain": [
       "<keras.callbacks.History at 0x7fdd6dd54550>"
      ]
     },
     "execution_count": 32,
     "metadata": {
      "tags": []
     },
     "output_type": "execute_result"
    }
   ],
   "source": [
    "bn_model.optimizer.lr = 0.001\n",
    "bn_model.fit_generator(batches, trn_label.shape[0], validation_data=test_batches, nb_val_samples=test_label.shape[0], nb_epoch=1)"
   ]
  },
  {
   "cell_type": "markdown",
   "metadata": {
    "colab_type": "text",
    "id": "KYmclxm_aw2c"
   },
   "source": [
    "# Drop Out"
   ]
  },
  {
   "cell_type": "code",
   "execution_count": 0,
   "metadata": {
    "colab": {
     "autoexec": {
      "startup": false,
      "wait_interval": 0
     }
    },
    "colab_type": "code",
    "collapsed": true,
    "id": "H0sVc6jiaw2d"
   },
   "outputs": [],
   "source": [
    "bndo_model = Sequential([\n",
    "    Lambda(norm_input, input_shape=(28, 28, 1)),\n",
    "    Convolution2D(32, 3, 3, activation='relu'),\n",
    "    BatchNormalization(axis=1),\n",
    "    Convolution2D(32, 3, 3, activation=\"relu\"),\n",
    "    MaxPooling2D(),\n",
    "    BatchNormalization(),\n",
    "    Convolution2D(64, 3, 3, activation='relu'),\n",
    "    BatchNormalization(axis=1),\n",
    "    Convolution2D(64, 3, 3, activation=\"relu\"),\n",
    "    MaxPooling2D(),\n",
    "    BatchNormalization(axis=1),\n",
    "    Flatten(),\n",
    "    Dropout(0.5),\n",
    "    Dense(512, activation='relu'),\n",
    "    Dense(10, activation='softmax')\n",
    "])\n",
    "bndo_model.compile(SGD(), loss='categorical_crossentropy', metrics=['accuracy'])"
   ]
  },
  {
   "cell_type": "code",
   "execution_count": 35,
   "metadata": {
    "colab": {
     "autoexec": {
      "startup": false,
      "wait_interval": 0
     },
     "base_uri": "https://localhost:8080/",
     "height": 153,
     "output_extras": [
      {
       "item_id": 54
      },
      {
       "item_id": 137
      },
      {
       "item_id": 159
      },
      {
       "item_id": 160
      }
     ]
    },
    "colab_type": "code",
    "executionInfo": {
     "elapsed": 105875,
     "status": "ok",
     "timestamp": 1517560992026,
     "user": {
      "displayName": "胡小糊",
      "photoUrl": "//lh6.googleusercontent.com/-ZZheEHVvyCI/AAAAAAAAAAI/AAAAAAAAAAQ/LvrhFpBLdZY/s50-c-k-no/photo.jpg",
      "userId": "111922928557190330260"
     },
     "user_tz": -480
    },
    "id": "u8eoU9qbaw2j",
    "outputId": "b1d9efa0-871b-4329-abcf-077adc15a968"
   },
   "outputs": [
    {
     "name": "stdout",
     "output_type": "stream",
     "text": [
      "Train on 60000 samples, validate on 10000 samples\n",
      "Epoch 1/3\n",
      "60000/60000 [==============================] - 35s - loss: 0.1177 - acc: 0.9640 - val_loss: 0.0311 - val_acc: 0.9888\n",
      "Epoch 2/3\n",
      " 3872/60000 [>.............................] - ETA: 31s - loss: 0.0492 - acc: 0.985060000/60000 [==============================] - 34s - loss: 0.0460 - acc: 0.9858 - val_loss: 0.0259 - val_acc: 0.9911\n",
      "Epoch 3/3\n",
      "23776/60000 [==========>...................] - ETA: 20s - loss: 0.0350 - acc: 0.988160000/60000 [==============================] - 34s - loss: 0.0353 - acc: 0.9885 - val_loss: 0.0231 - val_acc: 0.9928\n"
     ]
    },
    {
     "data": {
      "text/plain": [
       "<keras.callbacks.History at 0x7fdd6bff5890>"
      ]
     },
     "execution_count": 35,
     "metadata": {
      "tags": []
     },
     "output_type": "execute_result"
    }
   ],
   "source": [
    "bndo_model.optimizer.lr=0.1\n",
    "bndo_model.fit(trn_data, trn_label, validation_data=(test_data, test_label), nb_epoch=3)"
   ]
  },
  {
   "cell_type": "code",
   "execution_count": 36,
   "metadata": {
    "colab": {
     "autoexec": {
      "startup": false,
      "wait_interval": 0
     },
     "base_uri": "https://localhost:8080/",
     "height": 391,
     "output_extras": [
      {
       "item_id": 37
      },
      {
       "item_id": 84
      },
      {
       "item_id": 142
      },
      {
       "item_id": 180
      },
      {
       "item_id": 267
      },
      {
       "item_id": 320
      },
      {
       "item_id": 365
      },
      {
       "item_id": 399
      },
      {
       "item_id": 439
      },
      {
       "item_id": 481
      },
      {
       "item_id": 482
      }
     ]
    },
    "colab_type": "code",
    "executionInfo": {
     "elapsed": 346242,
     "status": "ok",
     "timestamp": 1517561338302,
     "user": {
      "displayName": "胡小糊",
      "photoUrl": "//lh6.googleusercontent.com/-ZZheEHVvyCI/AAAAAAAAAAI/AAAAAAAAAAQ/LvrhFpBLdZY/s50-c-k-no/photo.jpg",
      "userId": "111922928557190330260"
     },
     "user_tz": -480
    },
    "id": "WCyRWxqiaw2s",
    "outputId": "e62780e0-dabe-48a9-d64f-e405b4a17ec8"
   },
   "outputs": [
    {
     "name": "stdout",
     "output_type": "stream",
     "text": [
      "Train on 60000 samples, validate on 10000 samples\n",
      "Epoch 1/10\n",
      "60000/60000 [==============================] - 34s - loss: 0.0293 - acc: 0.9909 - val_loss: 0.0192 - val_acc: 0.9932\n",
      "Epoch 2/10\n",
      " 4224/60000 [=>............................] - ETA: 30s - loss: 0.0148 - acc: 0.995360000/60000 [==============================] - 34s - loss: 0.0232 - acc: 0.9926 - val_loss: 0.0172 - val_acc: 0.9943\n",
      "Epoch 3/10\n",
      "24832/60000 [===========>..................] - ETA: 19s - loss: 0.0216 - acc: 0.993660000/60000 [==============================] - 34s - loss: 0.0207 - acc: 0.9935 - val_loss: 0.0199 - val_acc: 0.9937\n",
      "Epoch 4/10\n",
      "31936/60000 [==============>...............] - ETA: 15s - loss: 0.0182 - acc: 0.993760000/60000 [==============================] - 35s - loss: 0.0192 - acc: 0.9936 - val_loss: 0.0191 - val_acc: 0.9950\n",
      "Epoch 5/10\n",
      "34656/60000 [================>.............] - ETA: 14s - loss: 0.0171 - acc: 0.994560000/60000 [==============================] - 35s - loss: 0.0171 - acc: 0.9946 - val_loss: 0.0145 - val_acc: 0.9952\n",
      "Epoch 6/10\n",
      "35936/60000 [================>.............] - ETA: 13s - loss: 0.0132 - acc: 0.995660000/60000 [==============================] - 34s - loss: 0.0152 - acc: 0.9950 - val_loss: 0.0176 - val_acc: 0.9939\n",
      "Epoch 7/10\n",
      "36864/60000 [=================>............] - ETA: 12s - loss: 0.0130 - acc: 0.995660000/60000 [==============================] - 34s - loss: 0.0140 - acc: 0.9953 - val_loss: 0.0188 - val_acc: 0.9944\n",
      "Epoch 8/10\n",
      "39392/60000 [==================>...........] - ETA: 11s - loss: 0.0132 - acc: 0.995660000/60000 [==============================] - 33s - loss: 0.0134 - acc: 0.9956 - val_loss: 0.0159 - val_acc: 0.9949\n",
      "Epoch 9/10\n",
      "39584/60000 [==================>...........] - ETA: 11s - loss: 0.0112 - acc: 0.996660000/60000 [==============================] - 33s - loss: 0.0112 - acc: 0.9966 - val_loss: 0.0170 - val_acc: 0.9947\n",
      "Epoch 10/10\n",
      "38976/60000 [==================>...........] - ETA: 11s - loss: 0.0115 - acc: 0.996060000/60000 [==============================] - 34s - loss: 0.0109 - acc: 0.9962 - val_loss: 0.0159 - val_acc: 0.9947\n"
     ]
    },
    {
     "data": {
      "text/plain": [
       "<keras.callbacks.History at 0x7fdd6d087bd0>"
      ]
     },
     "execution_count": 36,
     "metadata": {
      "tags": []
     },
     "output_type": "execute_result"
    }
   ],
   "source": [
    "bndo_model.optimizer.lr=0.01\n",
    "bndo_model.fit(trn_data, trn_label, validation_data=(test_data, test_label), nb_epoch=10)"
   ]
  },
  {
   "cell_type": "code",
   "execution_count": 37,
   "metadata": {
    "colab": {
     "autoexec": {
      "startup": false,
      "wait_interval": 0
     },
     "base_uri": "https://localhost:8080/",
     "height": 85,
     "output_extras": [
      {
       "item_id": 117
      },
      {
       "item_id": 118
      }
     ]
    },
    "colab_type": "code",
    "executionInfo": {
     "elapsed": 35210,
     "status": "ok",
     "timestamp": 1517561373548,
     "user": {
      "displayName": "胡小糊",
      "photoUrl": "//lh6.googleusercontent.com/-ZZheEHVvyCI/AAAAAAAAAAI/AAAAAAAAAAQ/LvrhFpBLdZY/s50-c-k-no/photo.jpg",
      "userId": "111922928557190330260"
     },
     "user_tz": -480
    },
    "id": "nuxgWDDAaw2v",
    "outputId": "f37465cc-a08d-4e94-a743-9477329127e4"
   },
   "outputs": [
    {
     "name": "stdout",
     "output_type": "stream",
     "text": [
      "Train on 60000 samples, validate on 10000 samples\n",
      "Epoch 1/1\n",
      "60000/60000 [==============================] - 34s - loss: 0.0101 - acc: 0.9964 - val_loss: 0.0167 - val_acc: 0.9940\n"
     ]
    },
    {
     "data": {
      "text/plain": [
       "<keras.callbacks.History at 0x7fdd6fc53390>"
      ]
     },
     "execution_count": 37,
     "metadata": {
      "tags": []
     },
     "output_type": "execute_result"
    }
   ],
   "source": [
    "bndo_model.optimizer.lr=0.001\n",
    "bndo_model.fit(trn_data, trn_label, validation_data=(test_data, test_label), nb_epoch=1)"
   ]
  },
  {
   "cell_type": "code",
   "execution_count": 0,
   "metadata": {
    "colab": {
     "autoexec": {
      "startup": false,
      "wait_interval": 0
     }
    },
    "colab_type": "code",
    "collapsed": true,
    "id": "h7KJAEHlrX72"
   },
   "outputs": [],
   "source": []
  }
 ],
 "metadata": {
  "accelerator": "GPU",
  "colab": {
   "collapsed_sections": [],
   "default_view": {},
   "name": "mnist.ipynb",
   "provenance": [],
   "version": "0.3.2",
   "views": {}
  },
  "kernelspec": {
   "display_name": "Python 2",
   "language": "python",
   "name": "python2"
  },
  "language_info": {
   "codemirror_mode": {
    "name": "ipython",
    "version": 2
   },
   "file_extension": ".py",
   "mimetype": "text/x-python",
   "name": "python",
   "nbconvert_exporter": "python",
   "pygments_lexer": "ipython2",
   "version": "2.7.14"
  }
 },
 "nbformat": 4,
 "nbformat_minor": 1
}
