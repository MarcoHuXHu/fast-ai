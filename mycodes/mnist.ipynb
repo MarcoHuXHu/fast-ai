{
 "cells": [
  {
   "cell_type": "markdown",
   "metadata": {},
   "source": [
    "## 各种import"
   ]
  },
  {
   "cell_type": "code",
   "execution_count": 1,
   "metadata": {},
   "outputs": [
    {
     "name": "stderr",
     "output_type": "stream",
     "text": [
      "Using Theano backend.\n"
     ]
    }
   ],
   "source": [
    "%matplotlib inline\n",
    "\n",
    "import os, sys \n",
    "sys.path.append(os.path.abspath(\"..\\examples\"))\n",
    "\n",
    "import utils; reload(utils)\n",
    "from utils import *\n",
    "\n",
    "from keras.models import Sequential\n",
    "from keras.layers import Input\n",
    "from keras.layers.core import Flatten, Dense, Dropout, Lambda\n",
    "from keras.layers.convolutional import Convolution2D, MaxPooling2D, ZeroPadding2D\n",
    "from keras.optimizers import SGD, RMSprop"
   ]
  },
  {
   "cell_type": "markdown",
   "metadata": {},
   "source": [
    "## 从Keras导入数据"
   ]
  },
  {
   "cell_type": "code",
   "execution_count": 2,
   "metadata": {},
   "outputs": [
    {
     "data": {
      "text/plain": [
       "((60000L, 28L, 28L), (60000L,), (10000L, 28L, 28L), (10000L,))"
      ]
     },
     "execution_count": 2,
     "metadata": {},
     "output_type": "execute_result"
    }
   ],
   "source": [
    "from keras.datasets import mnist\n",
    "(trn_data, trn_res), (test_data, test_res) = mnist.load_data()\n",
    "(trn_data.shape, trn_res.shape, test_data.shape, test_res.shape)"
   ]
  },
  {
   "cell_type": "markdown",
   "metadata": {
    "collapsed": true
   },
   "source": [
    "## 处理数据"
   ]
  },
  {
   "cell_type": "markdown",
   "metadata": {},
   "source": [
    "### One-Hot-Encoding"
   ]
  },
  {
   "cell_type": "code",
   "execution_count": 3,
   "metadata": {},
   "outputs": [
    {
     "name": "stdout",
     "output_type": "stream",
     "text": [
      "[5 0 4 1 9]\n",
      "[[ 0.  0.  0.  0.  0.  1.  0.  0.  0.  0.]\n",
      " [ 1.  0.  0.  0.  0.  0.  0.  0.  0.  0.]\n",
      " [ 0.  0.  0.  0.  1.  0.  0.  0.  0.  0.]\n",
      " [ 0.  1.  0.  0.  0.  0.  0.  0.  0.  0.]\n",
      " [ 0.  0.  0.  0.  0.  0.  0.  0.  0.  1.]]\n"
     ]
    }
   ],
   "source": [
    "def onehot(x): return np.array(OneHotEncoder().fit_transform(x.reshape(-1,1)).todense())\n",
    "trn_label = onehot(trn_res)\n",
    "test_label = onehot(test_res)\n",
    "\n",
    "print(trn_res[:5])\n",
    "print(trn_label[:5])"
   ]
  },
  {
   "cell_type": "markdown",
   "metadata": {},
   "source": [
    "### 对图像加入新的维度\n",
    "即灰度, 维度大小为1; 彩色图片则维度大小为3, 代表RGB, 3个通道"
   ]
  },
  {
   "cell_type": "code",
   "execution_count": 4,
   "metadata": {},
   "outputs": [
    {
     "data": {
      "text/plain": [
       "(60000L, 1L, 28L, 28L)"
      ]
     },
     "execution_count": 4,
     "metadata": {},
     "output_type": "execute_result"
    }
   ],
   "source": [
    "trn_data = np.expand_dims(trn_data, 1)\n",
    "test_data = np.expand_dims(test_data, 1)\n",
    "trn_data.shape"
   ]
  },
  {
   "cell_type": "markdown",
   "metadata": {},
   "source": [
    "### 对输入图像进行正则化"
   ]
  },
  {
   "cell_type": "code",
   "execution_count": 5,
   "metadata": {
    "collapsed": true
   },
   "outputs": [],
   "source": [
    "input_mean = trn_data.mean().astype(np.float32)\n",
    "input_std = trn_data.std().astype(np.float32)\n",
    "\n",
    "def norm_input(x):\n",
    "    return (x-input_mean)/input_std"
   ]
  },
  {
   "cell_type": "markdown",
   "metadata": {},
   "source": [
    "## 1. 简单神经网络模型"
   ]
  },
  {
   "cell_type": "code",
   "execution_count": 10,
   "metadata": {},
   "outputs": [],
   "source": [
    "simpleNN = Sequential()\n",
    "simpleNN.add(Lambda(norm_input, input_shape=(1, 28, 28), output_shape=(1, 28, 28)))\n",
    "simpleNN.add(Flatten())\n",
    "simpleNN.add(Dense(392, activation='softmax'))\n",
    "simpleNN.add(Dense(10, activation='softmax'))\n",
    "simpleNN.compile(optimizer=RMSprop(), loss='categorical_crossentropy', metrics=['accuracy'])"
   ]
  },
  {
   "cell_type": "markdown",
   "metadata": {},
   "source": [
    "### 1.1 直接训练"
   ]
  },
  {
   "cell_type": "code",
   "execution_count": 9,
   "metadata": {},
   "outputs": [
    {
     "name": "stdout",
     "output_type": "stream",
     "text": [
      "Train on 60000 samples, validate on 10000 samples\n",
      "Epoch 1/1\n",
      "60000/60000 [==============================] - 34s - loss: 1.4415 - acc: 0.4401 - val_loss: 1.2779 - val_acc: 0.4703\n"
     ]
    },
    {
     "data": {
      "text/plain": [
       "<keras.callbacks.History at 0x12814278>"
      ]
     },
     "execution_count": 9,
     "metadata": {},
     "output_type": "execute_result"
    }
   ],
   "source": [
    "simpleNN.optimizer.lr = 0.1\n",
    "simpleNN.fit(trn_data, trn_label, validation_data=(test_data, test_label), nb_epoch=1)"
   ]
  },
  {
   "cell_type": "code",
   "execution_count": null,
   "metadata": {},
   "outputs": [
    {
     "name": "stdout",
     "output_type": "stream",
     "text": [
      "Train on 60000 samples, validate on 10000 samples\n",
      "Epoch 1/3\n",
      "60000/60000 [==============================] - 103s - loss: 0.8987 - acc: 0.6784 - val_loss: 0.7461 - val_acc: 0.7462\n",
      "Epoch 2/3\n",
      "60000/60000 [==============================] - 65s - loss: 0.7182 - acc: 0.7699 - val_loss: 0.6953 - val_acc: 0.7922\n",
      "Epoch 3/3\n",
      " 8416/60000 [===>..........................] - ETA: 46s - loss: 0.6647 - acc: 0.8019"
     ]
    }
   ],
   "source": [
    "simpleNN.optimizer.lr = 0.01\n",
    "simpleNN.fit(trn_data, trn_label, validation_data=(test_data, test_label), nb_epoch=3)"
   ]
  },
  {
   "cell_type": "markdown",
   "metadata": {
    "collapsed": true
   },
   "source": [
    "### 1.2 生成batch再训练\n",
    "\n",
    "利用ImageDataGenerator(), 使用fit_generator而不是fit\n",
    "注意fit_generator的文档中参数由于版本升级发生了变化"
   ]
  },
  {
   "cell_type": "code",
   "execution_count": 32,
   "metadata": {},
   "outputs": [],
   "source": [
    "batch_size = 64\n",
    "gen = image.ImageDataGenerator()\n",
    "batches = gen.flow(trn_data, trn_label, batch_size=batch_size)\n",
    "test_batches = gen.flow(test_data, test_label, batch_size=batch_size)"
   ]
  },
  {
   "cell_type": "code",
   "execution_count": 52,
   "metadata": {},
   "outputs": [
    {
     "name": "stdout",
     "output_type": "stream",
     "text": [
      "Epoch 1/1\n",
      "60000/60000 [==============================] - 18s - loss: 0.2832 - acc: 0.9273 - val_loss: 0.3078 - val_acc: 0.9265\n"
     ]
    },
    {
     "data": {
      "text/plain": [
       "<keras.callbacks.History at 0x16be33c8>"
      ]
     },
     "execution_count": 52,
     "metadata": {},
     "output_type": "execute_result"
    }
   ],
   "source": [
    "simpleNN.optimizer.lr = 0.1\n",
    "simpleNN.fit_generator(batches, trn_data.shape[0], nb_epoch=1, validation_data=test_batches, nb_val_samples=test_data.shape[0])"
   ]
  },
  {
   "cell_type": "code",
   "execution_count": 54,
   "metadata": {},
   "outputs": [
    {
     "name": "stdout",
     "output_type": "stream",
     "text": [
      "Epoch 1/3\n",
      "60000/60000 [==============================] - 20s - loss: 0.2186 - acc: 0.9448 - val_loss: 0.2648 - val_acc: 0.9351\n",
      "Epoch 2/3\n",
      "60000/60000 [==============================] - 23s - loss: 0.2065 - acc: 0.9476 - val_loss: 0.2312 - val_acc: 0.9435\n",
      "Epoch 3/3\n",
      "60000/60000 [==============================] - 23s - loss: 0.1947 - acc: 0.9511 - val_loss: 0.2390 - val_acc: 0.9396\n"
     ]
    },
    {
     "data": {
      "text/plain": [
       "<keras.callbacks.History at 0x16be3780>"
      ]
     },
     "execution_count": 54,
     "metadata": {},
     "output_type": "execute_result"
    }
   ],
   "source": [
    "simpleNN.optimizer.lr = 0.01\n",
    "simpleNN.fit_generator(batches, trn_data.shape[0], nb_epoch=3, validation_data=test_batches, nb_val_samples=test_data.shape[0])"
   ]
  },
  {
   "cell_type": "markdown",
   "metadata": {},
   "source": [
    "## 2. 类似vgg16的卷积神经网络模型"
   ]
  },
  {
   "cell_type": "code",
   "execution_count": 83,
   "metadata": {},
   "outputs": [
    {
     "name": "stderr",
     "output_type": "stream",
     "text": [
      "C:\\anaconda2\\lib\\site-packages\\keras\\layers\\core.py:622: UserWarning: `output_shape` argument not specified for layer lambda_19 and cannot be automatically inferred with the Theano backend. Defaulting to output shape `(None, 1, 28, 28)` (same as input shape). If the expected output shape is different, specify it via the `output_shape` argument.\n",
      "  .format(self.name, input_shape))\n"
     ]
    }
   ],
   "source": [
    "simpleCNN = Sequential()\n",
    "simpleCNN.add(Lambda(norm_input, input_shape=(1, 28, 28), output_shape=(1, 28, 28)))\n",
    "simpleCNN.add(ZeroPadding2D())\n",
    "simpleCNN.add(Convolution2D(64, 3, 3, activation=\"relu\"))\n",
    "simpleCNN.add(MaxPooling2D())\n",
    "simpleCNN.add(ZeroPadding2D())\n",
    "simpleCNN.add(Convolution2D(128, 3, 3, activation=\"relu\"))\n",
    "simpleCNN.add(MaxPooling2D())\n",
    "simpleCNN.add(ZeroPadding2D())\n",
    "simpleCNN.add(Convolution2D(256, 3, 3, activation=\"relu\"))\n",
    "simpleCNN.add(MaxPooling2D())\n",
    "simpleCNN.add(Flatten())\n",
    "simpleCNN.add(Dense(512, activation=\"softmax\"))\n",
    "simpleCNN.add(Dense(10, activation=\"softmax\"))\n",
    "simpleCNN.compile(optimizer=Adam(), loss='categorical_crossentropy', metrics=['accuracy'])"
   ]
  },
  {
   "cell_type": "code",
   "execution_count": 86,
   "metadata": {
    "collapsed": true
   },
   "outputs": [],
   "source": [
    "simpleCNN = Sequential()\n",
    "simpleCNN.add(Lambda(norm_input, input_shape=(1, 28, 28), output_shape=(1, 28, 28)))\n",
    "simpleCNN.add(Convolution2D(32, 3, 3, activation=\"relu\"))\n",
    "simpleCNN.add(Convolution2D(32, 3, 3, activation=\"relu\"))\n",
    "simpleCNN.add(MaxPooling2D())\n",
    "simpleCNN.add(Convolution2D(64, 3, 3, activation=\"relu\"))\n",
    "simpleCNN.add(Convolution2D(64, 3, 3, activation=\"relu\"))\n",
    "simpleCNN.add(MaxPooling2D())\n",
    "\n",
    "simpleCNN.add(Flatten())\n",
    "simpleCNN.add(Dense(512, activation=\"relu\"))\n",
    "simpleCNN.add(Dense(10, activation=\"softmax\"))\n",
    "simpleCNN.compile(optimizer=Adam(), loss='categorical_crossentropy', metrics=['accuracy'])"
   ]
  },
  {
   "cell_type": "code",
   "execution_count": 88,
   "metadata": {},
   "outputs": [
    {
     "name": "stdout",
     "output_type": "stream",
     "text": [
      "Epoch 1/1\n",
      "6016/6000 [==============================] - 17s - loss: 14.4222 - acc: 0.1052 - val_loss: 14.4559 - val_acc: 0.1031\n"
     ]
    },
    {
     "data": {
      "text/plain": [
       "<keras.callbacks.History at 0x329a1fd0>"
      ]
     },
     "execution_count": 88,
     "metadata": {},
     "output_type": "execute_result"
    }
   ],
   "source": [
    "simpleCNN.optimizer.lr = 0.1\n",
    "simpleCNN.fit_generator(batches, 6000, nb_epoch=1, validation_data=test_batches, nb_val_samples=300)"
   ]
  },
  {
   "cell_type": "code",
   "execution_count": 81,
   "metadata": {},
   "outputs": [
    {
     "name": "stdout",
     "output_type": "stream",
     "text": [
      "____________________________________________________________________________________________________\n",
      "Layer (type)                     Output Shape          Param #     Connected to                     \n",
      "====================================================================================================\n",
      "lambda_18 (Lambda)               (None, 1, 28, 28)     0           lambda_input_17[0][0]            \n",
      "____________________________________________________________________________________________________\n",
      "zeropadding2d_24 (ZeroPadding2D) (None, 1, 30, 30)     0           lambda_18[0][0]                  \n",
      "____________________________________________________________________________________________________\n",
      "convolution2d_23 (Convolution2D) (None, 32, 28, 28)    320         zeropadding2d_24[0][0]           \n",
      "____________________________________________________________________________________________________\n",
      "maxpooling2d_21 (MaxPooling2D)   (None, 32, 14, 14)    0           convolution2d_23[0][0]           \n",
      "____________________________________________________________________________________________________\n",
      "zeropadding2d_25 (ZeroPadding2D) (None, 32, 16, 16)    0           maxpooling2d_21[0][0]            \n",
      "____________________________________________________________________________________________________\n",
      "convolution2d_24 (Convolution2D) (None, 64, 14, 14)    18496       zeropadding2d_25[0][0]           \n",
      "____________________________________________________________________________________________________\n",
      "maxpooling2d_22 (MaxPooling2D)   (None, 64, 7, 7)      0           convolution2d_24[0][0]           \n",
      "____________________________________________________________________________________________________\n",
      "flatten_12 (Flatten)             (None, 3136)          0           maxpooling2d_22[0][0]            \n",
      "____________________________________________________________________________________________________\n",
      "dense_23 (Dense)                 (None, 512)           1606144     flatten_12[0][0]                 \n",
      "____________________________________________________________________________________________________\n",
      "dense_24 (Dense)                 (None, 10)            5130        dense_23[0][0]                   \n",
      "====================================================================================================\n",
      "Total params: 1,630,090\n",
      "Trainable params: 1,630,090\n",
      "Non-trainable params: 0\n",
      "____________________________________________________________________________________________________\n"
     ]
    }
   ],
   "source": [
    "simpleCNN.summary()"
   ]
  },
  {
   "cell_type": "code",
   "execution_count": null,
   "metadata": {
    "collapsed": true
   },
   "outputs": [],
   "source": []
  }
 ],
 "metadata": {
  "kernelspec": {
   "display_name": "Python 2",
   "language": "python",
   "name": "python2"
  },
  "language_info": {
   "codemirror_mode": {
    "name": "ipython",
    "version": 2
   },
   "file_extension": ".py",
   "mimetype": "text/x-python",
   "name": "python",
   "nbconvert_exporter": "python",
   "pygments_lexer": "ipython2",
   "version": "2.7.14"
  }
 },
 "nbformat": 4,
 "nbformat_minor": 2
}
