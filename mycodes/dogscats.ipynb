{
 "cells": [
  {
   "cell_type": "code",
   "execution_count": 1,
   "metadata": {},
   "outputs": [
    {
     "name": "stderr",
     "output_type": "stream",
     "text": [
      "Using Theano backend.\n"
     ]
    }
   ],
   "source": [
    "%matplotlib inline\n",
    "\n",
    "from __future__ import division,print_function\n",
    "\n",
    "import os, json\n",
    "from glob import glob\n",
    "import numpy as np\n",
    "np.set_printoptions(precision=4, linewidth=100)\n",
    "from matplotlib import pyplot as plt\n",
    "\n",
    "import sys \n",
    "sys.path.append(os.path.abspath(\"..\\examples\"))\n",
    "\n",
    "import utils; reload(utils)\n",
    "from utils import plots"
   ]
  },
  {
   "cell_type": "code",
   "execution_count": 13,
   "metadata": {
    "collapsed": true
   },
   "outputs": [],
   "source": [
    "pwd = str(os.getcwd()).split(\"\\\\\")\n",
    "pwd.pop()\n",
    "pwd.pop()\n",
    "spwd = \"/\".join(pwd)\n",
    "# path = spwd + \"/data/dogscats/\"\n",
    "path = spwd + \"/data/dogscats/sample/\""
   ]
  },
  {
   "cell_type": "code",
   "execution_count": 14,
   "metadata": {
    "collapsed": true
   },
   "outputs": [],
   "source": [
    "# As large as you can, but no larger than 64 is recommended. \n",
    "# If you have an older or cheaper GPU, you'll run out of memory, so will have to decrease this.\n",
    "batch_size=8"
   ]
  },
  {
   "cell_type": "code",
   "execution_count": 15,
   "metadata": {
    "collapsed": true
   },
   "outputs": [],
   "source": [
    "# Import our class, and instantiate\n",
    "import vgg16; reload(vgg16)\n",
    "from vgg16 import Vgg16"
   ]
  },
  {
   "cell_type": "markdown",
   "metadata": {},
   "source": [
    "## 微调(finetune)模型\n",
    "\n",
    "每次抓取一些图片用于训练(train)和验证(valid).  \n",
    "对于vgg, 样本必须分类放好, 比如:  \n",
    "data\\train\\cats\\*.jpg  \n",
    "data\\train\\dogs\\*.jpg  "
   ]
  },
  {
   "cell_type": "code",
   "execution_count": 16,
   "metadata": {
    "scrolled": true
   },
   "outputs": [
    {
     "name": "stdout",
     "output_type": "stream",
     "text": [
      "Found 16 images belonging to 2 classes.\n",
      "Found 8 images belonging to 2 classes.\n",
      "Epoch 1/1\n",
      "16/16 [==============================] - 13s - loss: 2.1968 - acc: 0.3125 - val_loss: 0.8710 - val_acc: 0.8750\n"
     ]
    }
   ],
   "source": [
    "vgg = Vgg16()\n",
    "\n",
    "batches = vgg.get_batches(path+'train', batch_size=batch_size)\n",
    "val_batches = vgg.get_batches(path+'valid', batch_size=batch_size*2)\n",
    "vgg.finetune(batches)\n",
    "vgg.fit(batches, val_batches, nb_epoch=1)"
   ]
  },
  {
   "cell_type": "markdown",
   "metadata": {
    "collapsed": true
   },
   "source": [
    "## 生成结果"
   ]
  },
  {
   "cell_type": "code",
   "execution_count": 6,
   "metadata": {
    "scrolled": true
   },
   "outputs": [
    {
     "name": "stdout",
     "output_type": "stream",
     "text": [
      "Found 12 images belonging to 1 classes.\n"
     ]
    }
   ],
   "source": [
    "# 注意这里test目录下还要有一层目录, 再存放待识别的图片, 不然会找不到class\n",
    "batches, preds = vgg.test(path+'test/', batch_size = batch_size*2)"
   ]
  },
  {
   "cell_type": "code",
   "execution_count": 8,
   "metadata": {},
   "outputs": [
    {
     "name": "stdout",
     "output_type": "stream",
     "text": [
      "[[  5.7575e-02   9.4242e-01]\n",
      " [  9.9988e-01   1.1977e-04]\n",
      " [  9.7367e-01   2.6330e-02]\n",
      " [  3.0852e-02   9.6915e-01]\n",
      " [  9.1527e-03   9.9085e-01]\n",
      " [  1.9234e-02   9.8077e-01]\n",
      " [  1.4967e-01   8.5033e-01]\n",
      " [  9.9999e-01   1.0702e-05]\n",
      " [  9.9536e-01   4.6429e-03]\n",
      " [  9.9666e-01   3.3387e-03]\n",
      " [  9.9993e-01   7.3736e-05]\n",
      " [  9.8580e-01   1.4205e-02]]\n"
     ]
    }
   ],
   "source": [
    "print(preds)"
   ]
  },
  {
   "cell_type": "code",
   "execution_count": null,
   "metadata": {
    "collapsed": true
   },
   "outputs": [],
   "source": []
  }
 ],
 "metadata": {
  "kernelspec": {
   "display_name": "Python 2",
   "language": "python",
   "name": "python2"
  },
  "language_info": {
   "codemirror_mode": {
    "name": "ipython",
    "version": 2
   },
   "file_extension": ".py",
   "mimetype": "text/x-python",
   "name": "python",
   "nbconvert_exporter": "python",
   "pygments_lexer": "ipython2",
   "version": "2.7.14"
  }
 },
 "nbformat": 4,
 "nbformat_minor": 2
}
